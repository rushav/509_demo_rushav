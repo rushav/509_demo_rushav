{
 "cells": [
  {
   "cell_type": "markdown",
   "id": "0c048940",
   "metadata": {},
   "source": [
    "# TECHIN 509: Melody Representation Assignment\n",
    "\n",
    "**Name:** Rushav  \n",
    "**Date:** 10/23/25\n",
    "\n",
    "---\n",
    "\n",
    "## Part 1: Storing a Sequence of Notes (C D E F G)\n",
    "\n",
    "### My Choice: Using a List of Strings\n",
    "\n",
    "I chose to represent a melody as a **list of strings**, where each string represents a note.\n",
    "This is also based on using the format from the README.md: `[Note][Accidental][Octave]-[Duration]`"
   ]
  },
  {
   "cell_type": "code",
   "execution_count": 1,
   "id": "4948d638",
   "metadata": {},
   "outputs": [
    {
     "name": "stdout",
     "output_type": "stream",
     "text": [
      "My melody: ['C4-q', 'D4-q', 'E4-q', 'F4-q', 'G4-q']\n",
      "First note: C4-q\n",
      "Last note: G4-q\n"
     ]
    }
   ],
   "source": [
    "# Example: Storing the melody C D E F G\n",
    "melody = [\"C4-q\", \"D4-q\", \"E4-q\", \"F4-q\", \"G4-q\"]\n",
    "\n",
    "print(\"My melody:\", melody)\n",
    "print(\"First note:\", melody[0])\n",
    "print(\"Last note:\", melody[-1])"
   ]
  },
  {
   "cell_type": "markdown",
   "id": "04bac6da",
   "metadata": {},
   "source": [
    "### Justification\n",
    "\n",
    "**Answering the guiding questions:**\n",
    "\n",
    "1. **If a melody is like a sentence, what would each word be?**\n",
    "   - Each individual note would be a \"word\" - just like how a sentence is made up of words in order, a melody is made up of notes in order.\n",
    "\n",
    "2. **Which Python type keeps items in order?**\n",
    "   - A **list** keeps items in order and in this case for music, the order matters a lot.\n",
    "   - Lists maintain the sequence, which is important for music.\n",
    "\n",
    "3. **How to group several melodies together?**\n",
    "   - I can use a **list of lists or list within lists** to group multiple melodies:"
   ]
  },
  {
   "cell_type": "code",
   "execution_count": 3,
   "id": "b3899e3e",
   "metadata": {},
   "outputs": [
    {
     "name": "stdout",
     "output_type": "stream",
     "text": [
      "Collection of melodies:\n",
      "  Melody 1: ['C4-q', 'D4-q', 'E4-q', 'F4-q', 'G4-q']\n",
      "  Melody 2: ['G4-q', 'E4-q', 'C4-q']\n",
      "  Melody 3: ['C4-h', 'E4-h', 'G4-w']\n"
     ]
    }
   ],
   "source": [
    "# Grouping multiple melodies together\n",
    "melodies = [\n",
    "    [\"C4-q\", \"D4-q\", \"E4-q\", \"F4-q\", \"G4-q\"],   # melody 1\n",
    "    [\"G4-q\", \"E4-q\", \"C4-q\"],                   # melody 2\n",
    "    [\"C4-h\", \"E4-h\", \"G4-w\"]                    # melody 3\n",
    "]\n",
    "\n",
    "print(\"Collection of melodies:\")\n",
    "for i, mel in enumerate(melodies, 1):\n",
    "    print(f\"  Melody {i}: {mel}\")"
   ]
  },
  {
   "cell_type": "markdown",
   "id": "467ecf0d",
   "metadata": {},
   "source": [
    "**Why strings for individual notes?**\n",
    "- The note representation format (`\"C4-q\"`) contains multiple pieces of information in one compact form:\n",
    "  - Note letter (C)\n",
    "  - Octave (4)\n",
    "  - Duration (q = quarter note)\n",
    "- Strings are easy to read and debug\n",
    "- Later, I can parse/split the string to extract specific information when needed because it is standardized\n",
    "\n",
    "---\n",
    "\n",
    "## Part 2: Storing Training Data\n",
    "\n",
    "### My Preferred Approach: Turn it into one big list\n",
    "\n",
    "When given multiple melodies for training, it would be easier to  **turn them into a single list** of all notes. This makes it easier to analyze patterns across the entire dataset."
   ]
  },
  {
   "cell_type": "code",
   "execution_count": 4,
   "id": "75cbce05",
   "metadata": {},
   "outputs": [
    {
     "name": "stdout",
     "output_type": "stream",
     "text": [
      "Original melodies:\n",
      "  Melody 1: ['C4-q', 'D4-q', 'E4-q', 'F4-q', 'G4-q']\n",
      "  Melody 2: ['G4-q', 'E4-q', 'C4-q']\n",
      "  Melody 3: ['C4-h', 'E4-h', 'G4-w']\n"
     ]
    }
   ],
   "source": [
    "# Starting with multiple melodies\n",
    "melody1 = [\"C4-q\", \"D4-q\", \"E4-q\", \"F4-q\", \"G4-q\"]\n",
    "melody2 = [\"G4-q\", \"E4-q\", \"C4-q\"]\n",
    "melody3 = [\"C4-h\", \"E4-h\", \"G4-w\"]\n",
    "\n",
    "print(\"Original melodies:\")\n",
    "print(\"  Melody 1:\", melody1)\n",
    "print(\"  Melody 2:\", melody2)\n",
    "print(\"  Melody 3:\", melody3)"
   ]
  },
  {
   "cell_type": "code",
   "execution_count": 8,
   "id": "63331b70",
   "metadata": {},
   "outputs": [
    {
     "name": "stdout",
     "output_type": "stream",
     "text": [
      "Flattened using extend():\n",
      "['C4-q', 'D4-q', 'E4-q', 'F4-q', 'G4-q', 'G4-q', 'E4-q', 'C4-q', 'C4-h', 'E4-h', 'G4-w']\n"
     ]
    }
   ],
   "source": [
    "# Option 1: Start with empty list and use extend()\n",
    "all_notes = []\n",
    "all_notes.extend(melody1)\n",
    "all_notes.extend(melody2)\n",
    "all_notes.extend(melody3)\n",
    "\n",
    "print(\"Flattened using extend():\")\n",
    "print(all_notes)"
   ]
  },
  {
   "cell_type": "code",
   "execution_count": 11,
   "id": "b6ffaff5",
   "metadata": {},
   "outputs": [
    {
     "name": "stdout",
     "output_type": "stream",
     "text": [
      "\n",
      "Flattened using concatenation:\n",
      "['C4-q', 'D4-q', 'E4-q', 'F4-q', 'G4-q', 'G4-q', 'E4-q', 'C4-q', 'C4-h', 'E4-h', 'G4-w']\n",
      "\n",
      "Are both methods equal: True\n"
     ]
    }
   ],
   "source": [
    "# Option 2: Use list concatenation with + operator\n",
    "all_notes_concat = melody1 + melody2 + melody3\n",
    "\n",
    "print(\"\\nFlattened using concatenation:\")\n",
    "print(all_notes_concat)\n",
    "\n",
    "# Verify they're the same\n",
    "print(\"\\nAre both methods equal:\", all_notes == all_notes_concat)"
   ]
  },
  {
   "cell_type": "markdown",
   "id": "aa361f0a",
   "metadata": {},
   "source": [
    "### Justification\n",
    "\n",
    "**Answering the guiding questions:**\n",
    "\n",
    "1. **How can I \"flatten\" a collection?**\n",
    "   - By combining all the individual lists into one continuous sequence using `.extend()` or `+` operator\n",
    "\n",
    "2. **Can I start with an empty list and add notes?**\n",
    "   - Using `.extend()` method adds all items from one list to another\n",
    "\n",
    "3. **What tool combines lists?**\n",
    "   - The `+` operator concatenates lists\n",
    "   - The `.extend()` method\n",
    "   - A loop that adds each note one by one (too slow I think)\n",
    "\n",
    "**Why flatten the data?**\n",
    "- Makes it easier to analyze patterns across ALL melodies at once\n",
    "- I can count how often each note appears in the entire dataset\n",
    "- I can see which notes tend to follow which other notes across all examples\n",
    "- Simpler to work with for later analysis\n",
    "\n",
    "---\n",
    "\n",
    "## Part 3: Information to Extract for Training\n",
    "\n",
    "### What I Want to Learn from the Training Melodies\n",
    "\n",
    "To make my music composer generate realistic-sounding melodies, I need to extract several types of information from the training data:"
   ]
  },
  {
   "cell_type": "code",
   "execution_count": null,
   "id": "719ff356",
   "metadata": {},
   "outputs": [
    {
     "name": "stdout",
     "output_type": "stream",
     "text": [
      "Training data: ['C4-q', 'D4-q', 'E4-q', 'F4-q', 'G4-q', 'G4-q', 'E4-q', 'C4-q', 'C4-h', 'E4-h']\n",
      "Total notes: 10\n"
     ]
    }
   ],
   "source": [
    "# Sample training data (after being processed for simplification))\n",
    "all_notes = [\"C4-q\", \"D4-q\", \"E4-q\", \"F4-q\", \"G4-q\", \"G4-q\", \"E4-q\", \"C4-q\", \"C4-h\", \"E4-h\"]\n",
    "\n",
    "print(\"Training data:\", all_notes)\n",
    "print(\"Total notes:\", len(all_notes))"
   ]
  },
  {
   "cell_type": "markdown",
   "id": "f6df2384",
   "metadata": {},
   "source": [
    "### 1. Note Frequency - How often does each note appear?"
   ]
  },
  {
   "cell_type": "code",
   "execution_count": 12,
   "id": "80b47e06",
   "metadata": {},
   "outputs": [
    {
     "name": "stdout",
     "output_type": "stream",
     "text": [
      "Note frequencies:\n",
      "  C4-q: 2 times\n",
      "  D4-q: 1 times\n",
      "  E4-q: 2 times\n",
      "  F4-q: 1 times\n",
      "  G4-q: 2 times\n",
      "  C4-h: 1 times\n",
      "  E4-h: 1 times\n",
      "  G4-w: 1 times\n"
     ]
    }
   ],
   "source": [
    "# Count how many times each note appears\n",
    "note_counts = {}\n",
    "\n",
    "for note in all_notes:\n",
    "    if note in note_counts:\n",
    "        note_counts[note] += 1\n",
    "    else:\n",
    "        note_counts[note] = 1\n",
    "\n",
    "print(\"Note frequencies:\")\n",
    "for note, count in note_counts.items():\n",
    "    print(f\"  {note}: {count} times\")"
   ]
  },
  {
   "cell_type": "markdown",
   "id": "395e1903",
   "metadata": {},
   "source": [
    "### 2. Note Transitions - What note typically follows another?"
   ]
  },
  {
   "cell_type": "code",
   "execution_count": 14,
   "id": "e1a9e323",
   "metadata": {},
   "outputs": [
    {
     "name": "stdout",
     "output_type": "stream",
     "text": [
      "Note transitions (what comes after each note):\n",
      "  After C4-q: ['D4-q', 'C4-h']\n",
      "  After D4-q: ['E4-q']\n",
      "  After E4-q: ['F4-q', 'C4-q']\n",
      "  After F4-q: ['G4-q']\n",
      "  After G4-q: ['G4-q', 'E4-q']\n",
      "  After C4-h: ['E4-h']\n",
      "  After E4-h: ['G4-w']\n"
     ]
    }
   ],
   "source": [
    "# Track what note comes after each note\n",
    "# I used ChatGPT to help me approach this part of the problem and then I modified the code to fit my understanding better\n",
    "transitions = {}\n",
    "\n",
    "for i in range(len(all_notes) - 1):\n",
    "    current_note = all_notes[i]\n",
    "    next_note = all_notes[i + 1]\n",
    "    \n",
    "    if current_note not in transitions:\n",
    "        transitions[current_note] = []\n",
    "    transitions[current_note].append(next_note)\n",
    "\n",
    "print(\"Note transitions (what comes after each note):\")\n",
    "for note, following_notes in transitions.items():\n",
    "    print(f\"  After {note}: {following_notes}\")"
   ]
  },
  {
   "cell_type": "markdown",
   "id": "2a9d6431",
   "metadata": {},
   "source": [
    "**Why this matters:**\n",
    "- This is the information for generating natural-sounding melodies since many songs follow this general guidline in the real world\n",
    "- Instead of picking random notes, we can pick notes that typically follow the current note to make it sound more natural"
   ]
  },
  {
   "cell_type": "markdown",
   "id": "a180f33c",
   "metadata": {},
   "source": [
    "### 3. Starting and Ending Notes"
   ]
  },
  {
   "cell_type": "code",
   "execution_count": 15,
   "id": "6873d96e",
   "metadata": {},
   "outputs": [
    {
     "name": "stdout",
     "output_type": "stream",
     "text": [
      "Starting notes: ['C4-q', 'G4-q', 'C4-h']\n",
      "Ending notes: ['G4-q', 'C4-q', 'G4-w']\n",
      "\n",
      "Most common starting notes: Counter({'C4-q': 1, 'G4-q': 1, 'C4-h': 1})\n",
      "Most common ending notes: Counter({'G4-q': 1, 'C4-q': 1, 'G4-w': 1})\n"
     ]
    }
   ],
   "source": [
    "# What notes do melodies start and end with?\n",
    "\n",
    "melody1 = [\"C4-q\", \"D4-q\", \"E4-q\", \"F4-q\", \"G4-q\"]\n",
    "melody2 = [\"G4-q\", \"E4-q\", \"C4-q\"]\n",
    "melody3 = [\"C4-h\", \"E4-h\", \"G4-w\"]\n",
    "\n",
    "melodies_list = [melody1, melody2, melody3]\n",
    "\n",
    "starting_notes = []\n",
    "ending_notes = []\n",
    "\n",
    "for melody in melodies_list:\n",
    "    starting_notes.append(melody[0])\n",
    "    ending_notes.append(melody[-1])\n",
    "\n",
    "print(\"Starting notes:\", starting_notes)\n",
    "print(\"Ending notes:\", ending_notes)\n",
    "\n",
    "# Count most common starting/ending notes\n",
    "from collections import Counter\n",
    "print(\"\\nMost common starting notes:\", Counter(starting_notes))\n",
    "print(\"Most common ending notes:\", Counter(ending_notes))"
   ]
  },
  {
   "cell_type": "markdown",
   "id": "748a91bc",
   "metadata": {},
   "source": [
    "**Why this matters:**\n",
    "- Melodies often start and end on specific notes (like the root note of the key)\n",
    "- From my README, I mentioned ending on the root note or fifth for resolution\n",
    "- This helps create satisfying beginnings and endings"
   ]
  },
  {
   "cell_type": "markdown",
   "id": "70f317ea",
   "metadata": {},
   "source": [
    "### 4. Duration Patterns"
   ]
  },
  {
   "cell_type": "code",
   "execution_count": 16,
   "id": "530a2867",
   "metadata": {},
   "outputs": [
    {
     "name": "stdout",
     "output_type": "stream",
     "text": [
      "Duration sequence: ['q', 'q', 'q', 'q', 'q', 'q', 'q', 'q', 'h', 'h', 'w']\n",
      "\n",
      "Duration frequencies:\n",
      "  q: 8 times\n",
      "  h: 2 times\n",
      "  w: 1 times\n"
     ]
    }
   ],
   "source": [
    "# Extract just the durations from notes\n",
    "durations = []\n",
    "\n",
    "for note in all_notes:\n",
    "    # Split by '-' and get the duration part\n",
    "    duration = note.split('-')[1]\n",
    "    durations.append(duration)\n",
    "\n",
    "print(\"Duration sequence:\", durations)\n",
    "\n",
    "# Count duration frequencies\n",
    "duration_counts = {}\n",
    "for dur in durations:\n",
    "    if dur in duration_counts:\n",
    "        duration_counts[dur] += 1\n",
    "    else:\n",
    "        duration_counts[dur] = 1\n",
    "\n",
    "print(\"\\nDuration frequencies:\")\n",
    "for dur, count in duration_counts.items():\n",
    "    print(f\"  {dur}: {count} times\")"
   ]
  },
  {
   "cell_type": "markdown",
   "id": "5a77d188",
   "metadata": {},
   "source": [
    "**Why this matters:**\n",
    "- Helps create realistic rhythm patterns\n",
    "- Some durations might be more common than others (e.g., quarter notes)"
   ]
  },
  {
   "cell_type": "markdown",
   "id": "29cf40b3",
   "metadata": {},
   "source": [
    "### Summary: Key Information to Extract\n",
    "\n",
    "1. **Note Frequency** - Which notes appear most often?\n",
    "2. **Note Transitions** - After note X, what typically comes next?\n",
    "3. **Starting/Ending Notes** - How do melodies begin and end?\n",
    "4. **Duration Patterns** - What rhythms are common?\n",
    "5. **Common Sequences** - Are there repeated patterns?\n",
    "\n",
    "### How This Helps My Music Composer\n",
    "\n",
    "- **For randomness with rules**: Instead of picking any random note in general, I can pick a random note that's likely to follow the previous note based on the training data\n",
    "- **Sounds more musical**: The generated melody will have patterns similar to real music\n",
    "- **Respects the key signature**: If I train on C major melodies, the composer learns what a C-major might sound like\n",
    "- **Creates natural rhythm**: Duration patterns from real music make the rhythm feel authentic"
   ]
  }
 ],
 "metadata": {
  "kernelspec": {
   "display_name": "Python 3",
   "language": "python",
   "name": "python3"
  },
  "language_info": {
   "codemirror_mode": {
    "name": "ipython",
    "version": 3
   },
   "file_extension": ".py",
   "mimetype": "text/x-python",
   "name": "python",
   "nbconvert_exporter": "python",
   "pygments_lexer": "ipython3",
   "version": "3.13.7"
  }
 },
 "nbformat": 4,
 "nbformat_minor": 5
}
