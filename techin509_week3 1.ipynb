{
 "cells": [
  {
   "cell_type": "markdown",
   "metadata": {},
   "source": [
    "# Motivating Example: \n",
    "Now you have finished your job at Microsoft Cafe and you start your own business--a pizza shop. You would like to acknowledge and give back to your customers for their support:\n",
    "- Customers spent more than \\$100 earn a free pizza\n",
    "- Customers spend more than \\$20 and less than\n",
    "-  \\$100 earn a free soft drink\n",
    "- Customers spend less than \\$20 earn a coupon\n",
    "\n",
    "If you only have a few customers - say \"Microsoft\" and \"Meta\". This is doable using f-string as follows.\n"
   ]
  },
  {
   "cell_type": "code",
   "execution_count": 1,
   "metadata": {},
   "outputs": [
    {
     "name": "stdout",
     "output_type": "stream",
     "text": [
      "Dear Microsoft,\n",
      "I appreciate your support to my pizza shop.... \n"
     ]
    }
   ],
   "source": [
    "customer = \"Microsoft\"\n",
    "message = f\"\"\"Dear {customer},\n",
    "I appreciate your support to my pizza shop.... \"\"\"\n",
    "print(message)"
   ]
  },
  {
   "cell_type": "markdown",
   "metadata": {},
   "source": [
    "### What if you have millions of customers?\n"
   ]
  },
  {
   "cell_type": "markdown",
   "metadata": {},
   "source": [
    "# Learning Objectives:\n",
    "- Familiarize with methods and indexing of list\n",
    "- Familiarize with dictionary\n",
    "- Understand Boolean variables\n",
    "- Understand control flow and iterables"
   ]
  },
  {
   "cell_type": "markdown",
   "metadata": {
    "id": "1118dc09-864c-4397-9c29-40222703cecd"
   },
   "source": [
    "# List\n",
    "A list is a versatile and widely used data structure in Python. It is an ordered collection of elements enclosed within square brackets [ ]. Lists can store multiple items of different data types, including numbers, strings, and even other lists. Lists are mutable, meaning you can change their contents by adding, removing, or modifying elements."
   ]
  },
  {
   "cell_type": "markdown",
   "metadata": {
    "id": "7ex3dZEr3Hsv"
   },
   "source": [
    "## Creating Lists\n",
    "\n",
    "You can create a list by placing a comma-separated sequence of elements within square brackets. Here's how to create a simple list:"
   ]
  },
  {
   "cell_type": "code",
   "execution_count": null,
   "metadata": {
    "executionInfo": {
     "elapsed": 3,
     "status": "ok",
     "timestamp": 1696141673016,
     "user": {
      "displayName": "Ian Chen",
      "userId": "13743494164923451218"
     },
     "user_tz": 420
    },
    "id": "e1913968-fab3-4e70-8789-efb69ca8f5f6"
   },
   "outputs": [],
   "source": [
    "my_list = [1, 2, 3, 4, 5]\n",
    "newlist = [1, '1']"
   ]
  },
  {
   "cell_type": "markdown",
   "metadata": {
    "id": "BteG6RqFohlL"
   },
   "source": [
    "## Accessing Elements\n",
    "\n",
    "You can access elements of a list using indexing. Python uses zero-based indexing, meaning the first element is at index 0, the second at index 1, and so on. You can also use negative indexing, where -1 refers to the last element, -2 to the second-to-last, and so forth."
   ]
  },
  {
   "cell_type": "code",
   "execution_count": null,
   "metadata": {
    "colab": {
     "base_uri": "https://localhost:8080/"
    },
    "executionInfo": {
     "elapsed": 177,
     "status": "ok",
     "timestamp": 1696141750751,
     "user": {
      "displayName": "Ian Chen",
      "userId": "13743494164923451218"
     },
     "user_tz": 420
    },
    "id": "3dTSkvpj7IDb",
    "outputId": "c10bc4e1-4d23-4abc-f770-aae4fcb82f3d"
   },
   "outputs": [],
   "source": [
    "first_element = my_list[0]  # Access the first element (1)\n",
    "last_element = my_list[-1]   # Access the last element (5)\n",
    "print(first_element, last_element)"
   ]
  },
  {
   "cell_type": "markdown",
   "metadata": {
    "id": "ERfMl-Kt7KZK"
   },
   "source": [
    "## List Slicing\n",
    "\n",
    "Slicing allows you to extract a portion of a list. It's done by specifying a start and end index separated by a colon :"
   ]
  },
  {
   "cell_type": "code",
   "execution_count": null,
   "metadata": {
    "colab": {
     "base_uri": "https://localhost:8080/"
    },
    "executionInfo": {
     "elapsed": 5,
     "status": "ok",
     "timestamp": 1696141737799,
     "user": {
      "displayName": "Ian Chen",
      "userId": "13743494164923451218"
     },
     "user_tz": 420
    },
    "id": "1zkFvYp_7N7b",
    "outputId": "ff4d068f-aeb2-4bb3-cb7f-2f80e9ea2eb0"
   },
   "outputs": [],
   "source": [
    "subset = my_list[1:4]  # Get elements at index 1, 2, and 3 (2, 3, 4)\n",
    "subset"
   ]
  },
  {
   "cell_type": "markdown",
   "metadata": {},
   "source": [
    "# Practice 1: List slicing\n",
    "Complete the code in the following cell. **new_list** is a list containing integers from 0 to 49. \n",
    "- Create a list named **last_ten** containing the last 10 elements of new_list. Print out last_ten.\n",
    "- Create a list named **odd_list** containing all elements with odd indices in new_list. Print out odd_list\n",
    "- Create a list named **sub_list** containing all integer multiples of 7 in new_list. Print out sub_list"
   ]
  },
  {
   "cell_type": "code",
   "execution_count": null,
   "metadata": {},
   "outputs": [],
   "source": [
    "# add your code\n",
    "new_list = list(range(50))\n",
    "print(new_list)\n",
    "\n"
   ]
  },
  {
   "cell_type": "markdown",
   "metadata": {
    "id": "RoDsXYQ67Vhl"
   },
   "source": [
    "## Modifying Lists\n",
    "\n",
    "Lists are mutable, so you can change their elements by assignment."
   ]
  },
  {
   "cell_type": "code",
   "execution_count": null,
   "metadata": {
    "colab": {
     "base_uri": "https://localhost:8080/"
    },
    "executionInfo": {
     "elapsed": 5,
     "status": "ok",
     "timestamp": 1696141777246,
     "user": {
      "displayName": "Ian Chen",
      "userId": "13743494164923451218"
     },
     "user_tz": 420
    },
    "id": "j02oB2FO7Xr8",
    "outputId": "4b065fc5-73c9-4efc-c9b4-f0290906287d"
   },
   "outputs": [],
   "source": [
    "my_list[2] = 10  # Update the third element to 10\n",
    "my_list"
   ]
  },
  {
   "cell_type": "markdown",
   "metadata": {
    "id": "eaI7Bvyl7b3T"
   },
   "source": [
    "## Adding Elements\n",
    "\n",
    "You can add elements to a list using various methods. Two common methods are `append()` and `insert()`."
   ]
  },
  {
   "cell_type": "code",
   "execution_count": null,
   "metadata": {
    "colab": {
     "base_uri": "https://localhost:8080/"
    },
    "executionInfo": {
     "elapsed": 6,
     "status": "ok",
     "timestamp": 1696141823591,
     "user": {
      "displayName": "Ian Chen",
      "userId": "13743494164923451218"
     },
     "user_tz": 420
    },
    "id": "d9-lfrVv7iTQ",
    "outputId": "039405b1-cdd4-451f-da62-2e67dffd2f9f"
   },
   "outputs": [],
   "source": [
    "my_list.append(6)        # Add 6 to the end of the list\n",
    "print(my_list)\n",
    "my_list.insert(1, 7)     # Insert 7 at index 1, shifting other elements\n",
    "print(my_list)"
   ]
  },
  {
   "cell_type": "markdown",
   "metadata": {
    "id": "z-x8t8TA7mk3"
   },
   "source": [
    "## Removing Elements\n",
    "\n",
    "You can remove elements from a list using methods like `remove()`, `pop()`, and `del`."
   ]
  },
  {
   "cell_type": "code",
   "execution_count": null,
   "metadata": {
    "colab": {
     "base_uri": "https://localhost:8080/"
    },
    "executionInfo": {
     "elapsed": 4,
     "status": "ok",
     "timestamp": 1696141873829,
     "user": {
      "displayName": "Ian Chen",
      "userId": "13743494164923451218"
     },
     "user_tz": 420
    },
    "id": "9lJbkyPP7sPT",
    "outputId": "558360cb-f5b1-4bf3-cb60-fa577feb7422"
   },
   "outputs": [],
   "source": [
    "# Remove the element with the value 4\n",
    "my_list.remove(4)\n",
    "print(my_list)\n",
    "\n",
    "# Remove and return the element at index 3\n",
    "popped_element = my_list.pop(3)\n",
    "print(popped_element, my_list)\n",
    "\n",
    "# Delete the first element\n",
    "del my_list[0]\n",
    "print(my_list)"
   ]
  },
  {
   "cell_type": "markdown",
   "metadata": {
    "id": "3p9V4bs78hN4"
   },
   "source": [
    "## List Concatenation and Repetition\n",
    "\n",
    "You can combine lists using concatenation (+) and repeat a list using repetition (*)."
   ]
  },
  {
   "cell_type": "code",
   "execution_count": null,
   "metadata": {
    "colab": {
     "base_uri": "https://localhost:8080/"
    },
    "executionInfo": {
     "elapsed": 5,
     "status": "ok",
     "timestamp": 1696142117401,
     "user": {
      "displayName": "Ian Chen",
      "userId": "13743494164923451218"
     },
     "user_tz": 420
    },
    "id": "4c8f9d90-80e7-416c-835f-b2b5884be243",
    "outputId": "a3b6d26d-cec4-47a5-8b5d-ab0d5e1031df"
   },
   "outputs": [],
   "source": [
    "list1 = [1, 2, 3]\n",
    "list2 = [4, 5, 6]\n",
    "combined_list = list1 + list2     # Concatenation\n",
    "repeated_list = list1 * 3         # Repetition: [1, 2, 3, 1, 2, 3, 1, 2, 3]\n",
    "print(f\"combined_list: {combined_list}\")\n",
    "print(f\"repeated_list: {repeated_list}\")"
   ]
  },
  {
   "cell_type": "markdown",
   "metadata": {
    "id": "f2qLTQ-e8vyB"
   },
   "source": [
    "## List Methods\n",
    "\n",
    "Python provides several built-in methods for working with lists. Some useful methods include\n",
    "- len()\n",
    "- sort()\n",
    "- reverse()\n",
    "- count()"
   ]
  },
  {
   "cell_type": "code",
   "execution_count": null,
   "metadata": {
    "colab": {
     "base_uri": "https://localhost:8080/"
    },
    "executionInfo": {
     "elapsed": 191,
     "status": "ok",
     "timestamp": 1696142239054,
     "user": {
      "displayName": "Ian Chen",
      "userId": "13743494164923451218"
     },
     "user_tz": 420
    },
    "id": "cb978445-7e08-490e-a7ca-36b29f07e155",
    "outputId": "555d1d9e-501a-4bbe-8bac-2a2efb792550"
   },
   "outputs": [],
   "source": [
    "length = len(my_list)       # Get the length of the list\n",
    "print(length)\n",
    "my_list.sort()              # Sort the list in ascending order\n",
    "print(my_list)\n",
    "my_list.reverse()           # Reverse the order of elements\n",
    "print(my_list)\n",
    "count_of_2 = my_list.count(2)  # Count the occurrences of the value 2\n",
    "print(count_of_2)"
   ]
  },
  {
   "cell_type": "code",
   "execution_count": null,
   "metadata": {
    "colab": {
     "base_uri": "https://localhost:8080/"
    },
    "executionInfo": {
     "elapsed": 184,
     "status": "ok",
     "timestamp": 1696142243885,
     "user": {
      "displayName": "Ian Chen",
      "userId": "13743494164923451218"
     },
     "user_tz": 420
    },
    "id": "b78c0918-7615-4c7e-8cee-df550c64653c",
    "outputId": "6b42dc0c-e69a-4741-d728-85106cb3e5ef"
   },
   "outputs": [],
   "source": [
    "# Check for existence in a list with \"in\"\n",
    "1 in my_list  # => True"
   ]
  },
  {
   "cell_type": "code",
   "execution_count": null,
   "metadata": {
    "colab": {
     "base_uri": "https://localhost:8080/"
    },
    "executionInfo": {
     "elapsed": 2,
     "status": "ok",
     "timestamp": 1696142245147,
     "user": {
      "displayName": "Ian Chen",
      "userId": "13743494164923451218"
     },
     "user_tz": 420
    },
    "id": "792764de-f134-45e0-9bfd-01ed0e281857",
    "outputId": "7804554e-33bb-4090-9f83-fd253da4e2bb"
   },
   "outputs": [],
   "source": [
    "# return a new list\n",
    "sorted(my_list)"
   ]
  },
  {
   "cell_type": "code",
   "execution_count": null,
   "metadata": {
    "colab": {
     "base_uri": "https://localhost:8080/"
    },
    "executionInfo": {
     "elapsed": 166,
     "status": "ok",
     "timestamp": 1696142246106,
     "user": {
      "displayName": "Ian Chen",
      "userId": "13743494164923451218"
     },
     "user_tz": 420
    },
    "id": "d0e9c22a-8b68-4177-90da-c69a5e4c6d0a",
    "outputId": "a2a15735-f8eb-4acc-b876-b43205ce4388"
   },
   "outputs": [],
   "source": [
    "sorted(my_list, reverse=True)"
   ]
  },
  {
   "cell_type": "markdown",
   "metadata": {},
   "source": [
    "# Practice 2: Keywords and built-in functions\n",
    "In the previous sample code, we have seen lists containing numbers. \n",
    "- Is it possible to create a list of lists? Try out the code below and see if you can create a list variable named `l3` containing `l1` and `l2` as elements. Print out `l3`.\n",
    "- Create a list variable named `list` containing 7, 8, and 9. Print out list. Write this line of code before the definition of `l4`.\n",
    "- Read the last line of code in the cell below `l4 = list(range(50))`. Imagine what would happen before running the code, and then run it to compare your imagination with the actual outcome. Are you able to come up with an explanation?"
   ]
  },
  {
   "cell_type": "code",
   "execution_count": null,
   "metadata": {
    "scrolled": false
   },
   "outputs": [],
   "source": [
    "# add your code below\n",
    "l1 = [1, 2, 3]\n",
    "l2 = [4, 5, 6]\n",
    "\n",
    "\n",
    "\n",
    "l4 = list(range(50))"
   ]
  },
  {
   "cell_type": "markdown",
   "metadata": {},
   "source": [
    "# Keywords and Builtin Modules Reserved by Python\n",
    "Some keywords or names are reserved by Python. We need to be careful when defining our own variables to avoid overwritting them."
   ]
  },
  {
   "cell_type": "code",
   "execution_count": null,
   "metadata": {},
   "outputs": [],
   "source": [
    "import keyword as kw\n",
    "import builtins\n",
    "\n",
    "kw.kwlist\n",
    "dir(builtins)"
   ]
  },
  {
   "cell_type": "markdown",
   "metadata": {
    "id": "f2ee7215-0fb8-46fc-8fe4-2ebd0f715b15"
   },
   "source": [
    "# Dictionary"
   ]
  },
  {
   "cell_type": "code",
   "execution_count": 8,
   "metadata": {
    "id": "7d7fc009-ec8b-40b3-98a8-1232ce9dec66"
   },
   "outputs": [],
   "source": [
    "# Dictionaries store mappings from keys to values\n",
    "empty_dict = {}\n",
    "# Here is a prefilled dictionary\n",
    "player_dict = {\"name\": \"Luyao\", \"is_active\": True, \"score\": 3}"
   ]
  },
  {
   "cell_type": "code",
   "execution_count": null,
   "metadata": {
    "id": "85070741-7177-47da-8281-6c58ee0bd57b",
    "outputId": "a701dc1b-828e-4968-c076-2b48d4e90ff1"
   },
   "outputs": [],
   "source": [
    "# Look up values with []\n",
    "player_dict[\"name\"]  # => 1"
   ]
  },
  {
   "cell_type": "code",
   "execution_count": null,
   "metadata": {
    "id": "a7955f59-791e-4ff9-bd31-4d1d358aadee",
    "outputId": "c702ecfb-caf1-4f4d-b22f-98175ebe65f4"
   },
   "outputs": [],
   "source": [
    "# Get all keys as an iterable with \"keys()\". We need to wrap the call in list()\n",
    "# to turn it into a list. We'll talk about those later.  Note - for Python\n",
    "# versions <3.7, dictionary key ordering is not guaranteed. Your results might\n",
    "# not match the example below exactly. However, as of Python 3.7, dictionary\n",
    "# items maintain the order at which they are inserted into the dictionary.\n",
    "list(player_dict.keys())  # => [\"three\", \"two\", \"one\"] in Python <3.7\n",
    "list(player_dict.keys())  # => [\"one\", \"two\", \"three\"] in Python 3.7+"
   ]
  },
  {
   "cell_type": "code",
   "execution_count": null,
   "metadata": {
    "id": "072d5171-5540-485d-a722-802a90e95ddb",
    "outputId": "5b75f554-b9fb-4b70-e58d-df6467b73c0b"
   },
   "outputs": [],
   "source": [
    "# Get all values as an iterable with \"values()\". Once again we need to wrap it\n",
    "# in list() to get it out of the iterable. Note - Same as above regarding key\n",
    "# ordering.\n",
    "list(player_dict.values())  # => [3, 2, 1]  in Python <3.7\n",
    "list(player_dict.values())  # => [1, 2, 3] in Python 3.7+"
   ]
  },
  {
   "cell_type": "code",
   "execution_count": null,
   "metadata": {
    "id": "3b29a41b-a98b-4296-b608-de9f492e0a61",
    "outputId": "99bcd3eb-05a3-4a90-cf07-31d88a988e24"
   },
   "outputs": [],
   "source": [
    "# Check for existence of keys in a dictionary with \"in\"\n",
    "\"score\" in player_dict  # => True\n",
    "\"address\" in player_dict      # => False"
   ]
  },
  {
   "cell_type": "code",
   "execution_count": null,
   "metadata": {
    "id": "c972004b-d838-46cd-b14f-97e1c7462933",
    "outputId": "8d8795f9-7673-4e12-c051-2b9800d6d7b3"
   },
   "outputs": [],
   "source": [
    "# Looking up a non-existing key is a KeyError\n",
    "player_dict[\"address\"]  # KeyError"
   ]
  },
  {
   "cell_type": "code",
   "execution_count": null,
   "metadata": {
    "id": "c87a7890-8d40-4522-92cc-ec17fe09fe7e",
    "outputId": "d8dbb4a5-6b70-4a5d-825b-e40664f7dc48"
   },
   "outputs": [],
   "source": [
    "player_dict"
   ]
  },
  {
   "cell_type": "code",
   "execution_count": null,
   "metadata": {
    "id": "bfdf9301-ada3-4315-9f50-ab95754df6d4",
    "outputId": "41438bb0-4e86-4ab4-d88b-caec98afdb54"
   },
   "outputs": [],
   "source": [
    "# Use \"get()\" method to avoid the KeyError\n",
    "player_dict.get(\"score\")      # => 1"
   ]
  },
  {
   "cell_type": "code",
   "execution_count": 16,
   "metadata": {
    "id": "66459682-bc80-4c75-a43e-eb1b694511fa"
   },
   "outputs": [],
   "source": [
    "player_dict.get(\"address\")     # => None"
   ]
  },
  {
   "cell_type": "code",
   "execution_count": null,
   "metadata": {
    "id": "b08f5ccb-6056-40ff-ba4d-af5a2ef2b53c",
    "outputId": "ed1f8e50-6514-4366-b512-b099e2149e35"
   },
   "outputs": [],
   "source": [
    "# The get method supports a default argument when the value is missing\n",
    "player_dict.get(\"score\", 0)   # => 1"
   ]
  },
  {
   "cell_type": "code",
   "execution_count": null,
   "metadata": {
    "id": "b84ab9da-1b50-485e-91f7-23fdc7d4168a",
    "outputId": "9d4cb7e5-a5e5-44d1-e7c2-ad97c7499c7d"
   },
   "outputs": [],
   "source": [
    "player_dict.get(\"address\", \"University of Washington\")  # => 4"
   ]
  },
  {
   "cell_type": "code",
   "execution_count": null,
   "metadata": {
    "id": "ac0d37ed-4e7d-469b-a443-fd000d8c2d11",
    "outputId": "b04d632d-bc06-4362-87ca-17bf18033c64"
   },
   "outputs": [],
   "source": [
    "# Adding/Updating a dictionary\n",
    "player_dict[\"address\"] = \"Univeristy of Washington\"\n",
    "player_dict"
   ]
  },
  {
   "cell_type": "code",
   "execution_count": null,
   "metadata": {
    "id": "3cfd8494-c374-49d8-8dc1-ff9f0e4469d2",
    "outputId": "a1ff7771-edc6-4165-c458-07b9d16edc45"
   },
   "outputs": [],
   "source": [
    "player_dict['score'] = 100\n",
    "player_dict"
   ]
  },
  {
   "cell_type": "code",
   "execution_count": null,
   "metadata": {
    "id": "3ba7cee1-240e-4212-9148-048300750698",
    "outputId": "aff5979a-def7-438d-c489-b798f6a50d70"
   },
   "outputs": [],
   "source": [
    "# Remove keys from a dictionary with del\n",
    "del player_dict[\"address\"]  # Removes the key \"one\" from filled dict\n",
    "player_dict"
   ]
  },
  {
   "cell_type": "markdown",
   "metadata": {},
   "source": [
    "# Dictionaries in a list\n"
   ]
  },
  {
   "cell_type": "code",
   "execution_count": null,
   "metadata": {},
   "outputs": [],
   "source": [
    "\"Create, Read, Update, Delete\"\n",
    "instructors = [{\n",
    "    \"name\": \"Luyao\",\n",
    "    \"major\": \"ECE\",\n",
    "    \"school\": \"UW\",\n",
    "    \"score\": 10\n",
    "},\n",
    "{\n",
    "    \"name\": \"Kevin\",\n",
    "    \"major\": \"Civil Engineering\",\n",
    "    \"school\": \"UW\",\n",
    "    \"score\": 10\n",
    "}]"
   ]
  },
  {
   "cell_type": "code",
   "execution_count": null,
   "metadata": {},
   "outputs": [],
   "source": [
    "# create\n",
    "new_instructor = {\"name\": \"Haonan\",\n",
    "    \"major\": \"ECE\",\n",
    "    \"school\": \"UW\",\n",
    "    \"score\": 10}\n",
    "\n",
    "instructors.append(new_instructor)\n",
    "print(instructors)"
   ]
  },
  {
   "cell_type": "code",
   "execution_count": null,
   "metadata": {},
   "outputs": [],
   "source": [
    "# read \n",
    "instructors[0][\"name\"]"
   ]
  },
  {
   "cell_type": "code",
   "execution_count": null,
   "metadata": {},
   "outputs": [],
   "source": [
    "# update\n",
    "instructors[0][\"score\"] = 1"
   ]
  },
  {
   "cell_type": "code",
   "execution_count": null,
   "metadata": {},
   "outputs": [],
   "source": [
    "# delete\n",
    "instructors.pop(0)\n",
    "instructors"
   ]
  },
  {
   "cell_type": "markdown",
   "metadata": {},
   "source": [
    "# Practice 3: keyword and value of dictionary\n",
    "Based on our discussion so far, create a menu for Microsoft Cafe. Choose appropriate data structure. Your menu should at least capture:\n",
    "- Item category such as bakery, drink\n",
    "- Sizes of drinks and associated price\n",
    "\n",
    "**Optional**: Revise our program to print receipt based on your new menu"
   ]
  },
  {
   "cell_type": "code",
   "execution_count": null,
   "metadata": {},
   "outputs": [],
   "source": [
    "# add your code below"
   ]
  },
  {
   "cell_type": "markdown",
   "metadata": {
    "id": "9df82b14-a31b-4982-8c19-97ef98ab9369"
   },
   "source": [
    "# Boolean"
   ]
  },
  {
   "cell_type": "code",
   "execution_count": null,
   "metadata": {
    "id": "b32f3cc9-1a67-4aae-8b78-a6c84fca80b7",
    "outputId": "c81175fa-86ae-4292-b481-378a6518d9d2"
   },
   "outputs": [],
   "source": [
    "True"
   ]
  },
  {
   "cell_type": "code",
   "execution_count": null,
   "metadata": {
    "id": "0191eef7-e643-49bb-81d5-916659ecaff1",
    "outputId": "90d2aa1f-7dfe-4013-a28f-880d5eefeea3"
   },
   "outputs": [],
   "source": [
    "False"
   ]
  },
  {
   "cell_type": "code",
   "execution_count": null,
   "metadata": {
    "id": "c681f5f1-ad74-4022-90a2-f3452c785ea2",
    "outputId": "b305e0c7-ff53-4ca4-be22-86d6c1ec82d7"
   },
   "outputs": [],
   "source": [
    "1 == 1"
   ]
  },
  {
   "cell_type": "code",
   "execution_count": null,
   "metadata": {
    "id": "53224793-f727-46c9-b98a-bd22fcf132bf",
    "outputId": "9ceff8d6-19c7-4f64-dbe0-5875b47fbfa2",
    "scrolled": true
   },
   "outputs": [],
   "source": [
    "'Apple' == \"Apple\""
   ]
  },
  {
   "cell_type": "markdown",
   "metadata": {
    "id": "985d6e05-fe6b-4616-99a5-ecbedb6aadc6"
   },
   "source": [
    "## Truthy and falsy values"
   ]
  },
  {
   "cell_type": "code",
   "execution_count": null,
   "metadata": {
    "id": "cd12e5e9-3360-42f0-a488-051160f02f94",
    "outputId": "bcf5a008-9b34-454a-9d58-1e476608a037"
   },
   "outputs": [],
   "source": [
    "bool(\"Apple\")"
   ]
  },
  {
   "cell_type": "code",
   "execution_count": null,
   "metadata": {
    "id": "14f53baf-d081-43dd-9aac-182a0f145384",
    "outputId": "e5ccd8fa-af88-4522-9d9b-b5ba8d9d57d0"
   },
   "outputs": [],
   "source": [
    "bool(\"\")"
   ]
  },
  {
   "cell_type": "code",
   "execution_count": null,
   "metadata": {
    "id": "4539f694-ce8d-4c33-ad34-d95355042394",
    "outputId": "70423e60-9aa5-4413-c090-ee82c2241f9f"
   },
   "outputs": [],
   "source": [
    "bool(1)"
   ]
  },
  {
   "cell_type": "code",
   "execution_count": null,
   "metadata": {
    "id": "a5ef3a43-dce0-4c20-b7e6-5a6f2625c5c6",
    "outputId": "48aaa85a-2522-4bc9-8606-eac136c55d76"
   },
   "outputs": [],
   "source": [
    "bool(0)"
   ]
  },
  {
   "cell_type": "code",
   "execution_count": null,
   "metadata": {
    "id": "c261ffc8-e8b8-4103-aa1c-2c689fa28b02",
    "outputId": "89644fa4-e80c-484a-e666-90f57819448c"
   },
   "outputs": [],
   "source": [
    "bool([1,2,3])"
   ]
  },
  {
   "cell_type": "code",
   "execution_count": null,
   "metadata": {
    "id": "c779423a-f5fe-4c6e-a490-a0afecbfcc36",
    "outputId": "69d05fb1-49d9-4725-de53-20e0cbaa5a48"
   },
   "outputs": [],
   "source": [
    "bool([])"
   ]
  },
  {
   "cell_type": "markdown",
   "metadata": {
    "id": "74a196e6-5109-438f-8bfb-bf9f921c07b2"
   },
   "source": [
    "## Boolean Operators"
   ]
  },
  {
   "cell_type": "code",
   "execution_count": null,
   "metadata": {
    "id": "3179b9d3-bc22-4dce-9904-632449fdb12c",
    "outputId": "776e36ed-3472-4f40-bddb-b8d0e03e5705"
   },
   "outputs": [],
   "source": [
    "1 > 2"
   ]
  },
  {
   "cell_type": "code",
   "execution_count": null,
   "metadata": {
    "id": "a4888f84-5475-486a-883a-47e3a1bf7233",
    "outputId": "d442e30c-d7d6-4226-98ca-550f5d5a80e1"
   },
   "outputs": [],
   "source": [
    "1 < 2"
   ]
  },
  {
   "cell_type": "code",
   "execution_count": null,
   "metadata": {
    "id": "5c7a2cda-6db6-49a6-83e6-3a452a546cb1",
    "outputId": "42be9361-9aec-4541-cd6b-bfc997f4164d"
   },
   "outputs": [],
   "source": [
    "1 >= 1"
   ]
  },
  {
   "cell_type": "code",
   "execution_count": null,
   "metadata": {
    "id": "839233e2-f141-44ff-be73-c243a2a8b66f",
    "outputId": "726f39c5-49c4-4563-a718-6bf3207f0930"
   },
   "outputs": [],
   "source": [
    "1 == 1"
   ]
  },
  {
   "cell_type": "code",
   "execution_count": null,
   "metadata": {
    "id": "4dd493e8-a378-4751-b190-9ff4b9c8ce3f",
    "outputId": "da4d115e-dfbf-41cf-b463-373272ae422a"
   },
   "outputs": [],
   "source": [
    "1 != 1"
   ]
  },
  {
   "cell_type": "code",
   "execution_count": null,
   "metadata": {
    "id": "24c3c152-0220-4c60-936d-e35d6698a403",
    "outputId": "a60a9634-e917-4d2d-fba1-8c5bb55e15f1"
   },
   "outputs": [],
   "source": [
    "not True"
   ]
  },
  {
   "cell_type": "code",
   "execution_count": null,
   "metadata": {
    "id": "3b554300-1dd0-4a88-a140-8c411bb0dd97",
    "outputId": "917649b7-30e1-4d99-9259-8b3251ebbb46"
   },
   "outputs": [],
   "source": [
    "not False"
   ]
  },
  {
   "cell_type": "code",
   "execution_count": null,
   "metadata": {
    "id": "2f85b56b-0b5b-4b21-8bb3-bb7c32aec870",
    "outputId": "dd477ffe-523a-48b5-eace-537d3195ab6a"
   },
   "outputs": [],
   "source": [
    "True and False"
   ]
  },
  {
   "cell_type": "code",
   "execution_count": null,
   "metadata": {
    "id": "037ccabd-c342-4142-a825-838a050acc7c",
    "outputId": "04dd36b4-5002-4d7a-b753-2870f6c2f168"
   },
   "outputs": [],
   "source": [
    "True or False"
   ]
  },
  {
   "cell_type": "code",
   "execution_count": null,
   "metadata": {
    "id": "5b203a81-e007-40c8-9807-bdd967ce22d7",
    "outputId": "d6c03789-f28d-4fd1-d2d6-a3c9c8aec1ce"
   },
   "outputs": [],
   "source": [
    "# Check if something is in a collection\n",
    "animals = ['Dog', 'Cat', 'Fish']\n",
    "print('Dragon' in animals)\n",
    "\n",
    "# in on dictionaries checks for existance of key\n",
    "player = {\"name\": \"Luyao\", \"score\": 3}\n",
    "print('score' in player)"
   ]
  },
  {
   "cell_type": "markdown",
   "metadata": {
    "id": "1b4ca7a4-4fb5-44fd-9085-e82234ba9756"
   },
   "source": [
    "# Control Flow and Iterables"
   ]
  },
  {
   "cell_type": "markdown",
   "metadata": {
    "id": "94d7f547-245b-4668-ad9c-163d56509649"
   },
   "source": [
    "## if-else\n",
    "<img src=\"if-else-flowchart.png\" width=\"1000\"/>"
   ]
  },
  {
   "cell_type": "code",
   "execution_count": 2,
   "metadata": {
    "id": "5c22d145-19f3-4f71-8cb0-97227f112475",
    "outputId": "ecc52f75-319f-4a1a-a5c0-a3a793a8321a"
   },
   "outputs": [],
   "source": [
    "# Let's just make a variable\n",
    "some_var = int(input(\"Please enter a number: \"))"
   ]
  },
  {
   "cell_type": "code",
   "execution_count": null,
   "metadata": {
    "id": "e865950e-e8c5-4fd7-8a61-4bb8de3b60cc",
    "outputId": "142d4896-e245-4547-cde8-ebb552a0c817"
   },
   "outputs": [],
   "source": [
    "# Here is an if statement. Indentation is significant in Python!\n",
    "# Convention is to use four spaces, not tabs.\n",
    "# This prints \"some_var is smaller than 10\"\n",
    "if some_var > 10:\n",
    "    print(\"some_var is totally bigger than 10.\")\n",
    "elif some_var < 10:    # This elif clause is optional.\n",
    "    print(\"some_var is smaller than 10.\")\n",
    "else:                  # This is optional too.\n",
    "    print(\"some_var is indeed 10.\")"
   ]
  },
  {
   "cell_type": "code",
   "execution_count": null,
   "metadata": {
    "id": "063985ab-8a95-4c73-ad21-7c1d8d24141a",
    "outputId": "bc59ab26-9982-49d6-d457-6be1821e889e"
   },
   "outputs": [],
   "source": [
    "name = \"Apple\"\n",
    "if name:\n",
    "    print(f\"My name is {name}\")"
   ]
  },
  {
   "cell_type": "markdown",
   "metadata": {
    "id": "f21b2336-faa3-455d-a671-dcded2320503"
   },
   "source": [
    "# Practice 4: If-else\n",
    "Given the menu of Microsoft Cafe, prepare a program to get the price of item ordered by customer. If no such item is found from menu, notify the user."
   ]
  },
  {
   "cell_type": "code",
   "execution_count": null,
   "metadata": {},
   "outputs": [],
   "source": [
    "# add your code below\n",
    "\n",
    "\n"
   ]
  },
  {
   "cell_type": "markdown",
   "metadata": {
    "id": "313160a0-d7a1-4281-81a0-061ffd0b8e03"
   },
   "source": [
    "# Loops\n",
    "<img src = \"iterable.png\" width = \"1000\">"
   ]
  },
  {
   "cell_type": "code",
   "execution_count": null,
   "metadata": {
    "id": "c6da4479-6d0c-4ba2-805f-09c53ed90c45",
    "outputId": "dc72898e-2bbe-4d9c-a5ae-8473cd92e553"
   },
   "outputs": [],
   "source": [
    "\"\"\"\n",
    "For loops iterate over lists\n",
    "prints:\n",
    "    dog is a mammal\n",
    "    cat is a mammal\n",
    "    mouse is a mammal\n",
    "\"\"\"\n",
    "\n",
    "animals = [\"dog\", \"cat\", \"mouse\"]\n",
    "for animal in animals:\n",
    "    # You can use format() to interpolate formatted strings\n",
    "    print(\"{} is a mammal\".format(animal))"
   ]
  },
  {
   "cell_type": "code",
   "execution_count": null,
   "metadata": {
    "id": "bce375b4-790a-4231-ab4b-f385f7911556",
    "outputId": "52c50a9f-c036-41da-b2ad-c50772f16381"
   },
   "outputs": [],
   "source": [
    "\"\"\"\n",
    "Loop over a list to retrieve both the index and the value of each list item:\n",
    "    0 dog\n",
    "    1 cat\n",
    "    2 mouse\n",
    "\"\"\"\n",
    "animals = [\"dog\", \"cat\", \"mouse\"]\n",
    "for i, value in enumerate(animals):\n",
    "    print(i, value)\n"
   ]
  },
  {
   "cell_type": "code",
   "execution_count": null,
   "metadata": {
    "id": "bcc26fab-7c07-420b-a454-57117f7a6616",
    "outputId": "2626e958-222f-4e68-d4e8-7d232f9ea676"
   },
   "outputs": [],
   "source": [
    "employees = [\n",
    "    {\"id\": 1, \"name\": \"Ian\", \"score\": 5, \"is_active\": True},\n",
    "    {\"id\": 2, \"name\": \"Luyao\", \"score\": 6, \"is_active\": False},\n",
    "]\n",
    "for employee in employees:\n",
    "    print(f\"Employee {employee['id']}, name: {employee['name']}\")"
   ]
  },
  {
   "cell_type": "code",
   "execution_count": null,
   "metadata": {
    "id": "c802a143-72f5-4f9f-9446-a48eabd9c008",
    "outputId": "e082c15d-552f-4aed-eaa3-7c0a10b6808a"
   },
   "outputs": [],
   "source": [
    "\"\"\"\n",
    "\"range(number)\" returns an iterable of numbers\n",
    "from zero up to (but excluding) the given number\n",
    "prints:\n",
    "    0\n",
    "    1\n",
    "    2\n",
    "    3\n",
    "\"\"\"\n",
    "for i in range(4):\n",
    "    print(i)"
   ]
  },
  {
   "cell_type": "code",
   "execution_count": null,
   "metadata": {
    "id": "5023c758-8323-46c1-8479-88699364390d",
    "outputId": "83193026-f822-4289-b854-2ad19088c223"
   },
   "outputs": [],
   "source": [
    "\n",
    "\"\"\"\n",
    "\"range(lower, upper)\" returns an iterable of numbers\n",
    "from the lower number to the upper number\n",
    "prints:\n",
    "    4\n",
    "    5\n",
    "    6\n",
    "    7\n",
    "\"\"\"\n",
    "for i in range(4, 8):\n",
    "    print(i)"
   ]
  },
  {
   "cell_type": "code",
   "execution_count": null,
   "metadata": {
    "id": "2aeb813b-694d-4a4b-9734-c34cd76ad5c5",
    "outputId": "aa97fe73-b652-4c72-e7a2-f42e1d703033"
   },
   "outputs": [],
   "source": [
    "\"\"\"\n",
    "\"range(lower, upper, step)\" returns an iterable of numbers\n",
    "from the lower number to the upper number, while incrementing\n",
    "by step. If step is not indicated, the default value is 1.\n",
    "prints:\n",
    "    4\n",
    "    6\n",
    "\"\"\"\n",
    "for i in range(4, 8, 2):\n",
    "    print(i)"
   ]
  },
  {
   "cell_type": "code",
   "execution_count": null,
   "metadata": {
    "id": "63a1f029-9ed0-4cd3-9d05-c83eacb5c265",
    "outputId": "77692510-32dc-4910-8e7e-48adabfa3b67"
   },
   "outputs": [],
   "source": [
    "?range"
   ]
  },
  {
   "cell_type": "markdown",
   "metadata": {},
   "source": [
    "# while loop\n",
    "<img src = \"while-loop.png\" width = \"1000\">\n"
   ]
  },
  {
   "cell_type": "code",
   "execution_count": null,
   "metadata": {
    "id": "1223287e-738d-4ecd-8a04-d1f02138025f",
    "outputId": "bce283ab-16bd-4669-9697-bce6c89b054d"
   },
   "outputs": [],
   "source": [
    "\"\"\"\n",
    "While loops go until a condition is no longer met.\n",
    "prints:\n",
    "    0\n",
    "    1\n",
    "    2\n",
    "    3\n",
    "\"\"\"\n",
    "x = 0\n",
    "while x < 4:\n",
    "    print(x)\n",
    "    x += 1  # Shorthand for x = x + 1"
   ]
  },
  {
   "cell_type": "markdown",
   "metadata": {
    "id": "92b3a111-0b1d-4134-8698-961623d61ad2"
   },
   "source": [
    "# Comprehensions"
   ]
  },
  {
   "cell_type": "markdown",
   "metadata": {
    "id": "0e259756-1c29-4025-9949-e3ce14613f4f"
   },
   "source": [
    "## Transformation"
   ]
  },
  {
   "cell_type": "code",
   "execution_count": null,
   "metadata": {
    "id": "a79d7831-3682-4134-89c7-bee1381dded7",
    "outputId": "09754c5a-7696-4fdf-eda4-e73cec788489"
   },
   "outputs": [],
   "source": [
    "# Change string to all cap using .upper()\n",
    "\"dog\".upper()"
   ]
  },
  {
   "cell_type": "code",
   "execution_count": null,
   "metadata": {
    "id": "e0bb3cce-dcd6-4f97-9cd1-4c06004e5bf7"
   },
   "outputs": [],
   "source": [
    "animals = [\"dog\", \"cat\", \"mouse\"]"
   ]
  },
  {
   "cell_type": "code",
   "execution_count": null,
   "metadata": {
    "id": "2f28bfc8-d783-404c-91cc-4208bf9c1816",
    "outputId": "6df9e6d2-bc85-4ee1-8181-cd0728dd48b0"
   },
   "outputs": [],
   "source": [
    "# take one animal and make it all cap\n",
    "animals[0].upper()"
   ]
  },
  {
   "cell_type": "code",
   "execution_count": null,
   "metadata": {
    "id": "5481bb7b-b3ff-45ca-893a-2e8234572022",
    "outputId": "8f8ef961-5905-4300-b344-143ddc4fefbf"
   },
   "outputs": [],
   "source": [
    "# what if we want to make a list of animals all capitalized?\n",
    "capitalized_animals = []\n",
    "for animal in animals:\n",
    "    cap_animal = animal.upper()\n",
    "    capitalized_animals.append(cap_animal)\n",
    "capitalized_animals"
   ]
  },
  {
   "cell_type": "code",
   "execution_count": null,
   "metadata": {
    "id": "d4c355ae-57a6-45c2-be06-a9e07a8ea82b",
    "outputId": "a01c949c-b2ce-4bd0-c85d-10c757c477e6"
   },
   "outputs": [],
   "source": [
    "# The pythonic way\n",
    "[a.upper() for a in animals]"
   ]
  },
  {
   "cell_type": "markdown",
   "metadata": {
    "id": "4a7ef631-5a5a-49da-9616-588c4a8860da"
   },
   "source": [
    "## Filtering"
   ]
  },
  {
   "cell_type": "code",
   "execution_count": null,
   "metadata": {
    "id": "e6c18711-c71f-4fa1-bef6-68745b6a7341",
    "outputId": "647a4d68-f348-4cbd-9fe4-10d1b6af710d"
   },
   "outputs": [],
   "source": [
    "[a for a in animals if a == 'dog']"
   ]
  },
  {
   "cell_type": "markdown",
   "metadata": {
    "id": "a57b92cb-ce4a-4434-bf19-3e436b0c4c76"
   },
   "source": [
    "## Filter then transform"
   ]
  },
  {
   "cell_type": "code",
   "execution_count": null,
   "metadata": {
    "id": "7680e6bf-aa16-4de8-b727-bb129f06ba77",
    "outputId": "028ac2f2-9d29-4d05-9897-59fb34cf86f0"
   },
   "outputs": [],
   "source": [
    "[a.upper() for a in animals if a == 'dog']"
   ]
  },
  {
   "cell_type": "markdown",
   "metadata": {
    "id": "a62e95be-7d5d-49a0-8eb8-86b0833e6aa9"
   },
   "source": [
    "## Real world example"
   ]
  },
  {
   "cell_type": "code",
   "execution_count": null,
   "metadata": {
    "id": "46fc0efd-488c-41d2-88f6-2a2b4996e942",
    "outputId": "80823589-b375-4afc-d85b-24a6c969d749"
   },
   "outputs": [],
   "source": [
    "employees = [\n",
    "    {\"id\": 1, \"name\": \"Ian\", \"score\": 5, \"is_active\": True},\n",
    "    {\"id\": 2, \"name\": \"Luyao\", \"score\": 6, \"is_active\": False},\n",
    "]\n",
    "high_score_employees = [x for x in employees if x['score'] > 5]\n",
    "high_score_employees"
   ]
  },
  {
   "cell_type": "code",
   "execution_count": null,
   "metadata": {
    "id": "34819139-6152-48f0-8830-12962d7b711a",
    "outputId": "c64dcad5-6770-4fd6-c49b-807c8e4ee858"
   },
   "outputs": [],
   "source": [
    "active_employees = [x for x in employees if x['is_active']]\n",
    "active_employees"
   ]
  },
  {
   "cell_type": "markdown",
   "metadata": {},
   "source": [
    "## break and continue to alter control flow\n",
    "\n",
    "break exits the loop\n",
    "\n",
    "continue skips the current iteration and proceeds with the next one"
   ]
  },
  {
   "cell_type": "code",
   "execution_count": null,
   "metadata": {},
   "outputs": [],
   "source": [
    "for ii in range(5):\n",
    "    if ii == 2:\n",
    "        break\n",
    "    print(ii)\n",
    "\n",
    "for ii in range(5):\n",
    "    if ii == 2:\n",
    "        continue\n",
    "    print(ii)\n"
   ]
  },
  {
   "cell_type": "markdown",
   "metadata": {
    "id": "63e7efb0-f1e0-4da5-82ef-2810c2183a00"
   },
   "source": [
    "# Question\n",
    "You have 10k elements in a list, a remote storage system can only accept 10 elements at a time.\n",
    "\n",
    "Write a program that feeds the data to a remote system 10 elements at a time."
   ]
  },
  {
   "cell_type": "code",
   "execution_count": 6,
   "metadata": {},
   "outputs": [
    {
     "name": "stdout",
     "output_type": "stream",
     "text": [
      "Sending batch 1: [0, 1, 2, 3, 4, 5, 6, 7, 8, 9]\n",
      "Sending batch 2: [10, 11, 12, 13, 14, 15, 16, 17, 18, 19]\n",
      "Sending batch 3: [20, 21, 22, 23, 24, 25, 26, 27, 28, 29]\n",
      "Sending batch 4: [30, 31, 32, 33, 34, 35, 36, 37, 38, 39]\n",
      "Sending batch 5: [40, 41, 42, 43, 44, 45, 46, 47, 48, 49]\n",
      "Sending batch 6: [50, 51, 52, 53, 54, 55, 56, 57, 58, 59]\n",
      "Sending batch 7: [60, 61, 62, 63, 64, 65, 66, 67, 68, 69]\n",
      "Sending batch 8: [70, 71, 72, 73, 74, 75, 76, 77, 78, 79]\n",
      "Sending batch 9: [80, 81, 82, 83, 84, 85, 86, 87, 88, 89]\n",
      "Sending batch 10: [90, 91, 92, 93, 94, 95, 96, 97, 98, 99]\n",
      "Sending batch 11: [100, 101, 102, 103, 104, 105, 106, 107, 108, 109]\n",
      "Sending batch 12: [110, 111, 112, 113, 114, 115, 116, 117, 118, 119]\n",
      "Sending batch 13: [120, 121, 122, 123, 124, 125, 126, 127, 128, 129]\n",
      "Sending batch 14: [130, 131, 132, 133, 134, 135, 136, 137, 138, 139]\n",
      "Sending batch 15: [140, 141, 142, 143, 144, 145, 146, 147, 148, 149]\n",
      "Sending batch 16: [150, 151, 152, 153, 154, 155, 156, 157, 158, 159]\n",
      "Sending batch 17: [160, 161, 162, 163, 164, 165, 166, 167, 168, 169]\n",
      "Sending batch 18: [170, 171, 172, 173, 174, 175, 176, 177, 178, 179]\n",
      "Sending batch 19: [180, 181, 182, 183, 184, 185, 186, 187, 188, 189]\n",
      "Sending batch 20: [190, 191, 192, 193, 194, 195, 196, 197, 198, 199]\n",
      "Sending batch 21: [200, 201, 202, 203, 204, 205, 206, 207, 208, 209]\n",
      "Sending batch 22: [210, 211, 212, 213, 214, 215, 216, 217, 218, 219]\n",
      "Sending batch 23: [220, 221, 222, 223, 224, 225, 226, 227, 228, 229]\n",
      "Sending batch 24: [230, 231, 232, 233, 234, 235, 236, 237, 238, 239]\n",
      "Sending batch 25: [240, 241, 242, 243, 244, 245, 246, 247, 248, 249]\n",
      "Sending batch 26: [250, 251, 252, 253, 254, 255, 256, 257, 258, 259]\n",
      "Sending batch 27: [260, 261, 262, 263, 264, 265, 266, 267, 268, 269]\n",
      "Sending batch 28: [270, 271, 272, 273, 274, 275, 276, 277, 278, 279]\n",
      "Sending batch 29: [280, 281, 282, 283, 284, 285, 286, 287, 288, 289]\n",
      "Sending batch 30: [290, 291, 292, 293, 294, 295, 296, 297, 298, 299]\n",
      "Sending batch 31: [300, 301, 302, 303, 304, 305, 306, 307, 308, 309]\n",
      "Sending batch 32: [310, 311, 312, 313, 314, 315, 316, 317, 318, 319]\n",
      "Sending batch 33: [320, 321, 322, 323, 324, 325, 326, 327, 328, 329]\n",
      "Sending batch 34: [330, 331, 332, 333, 334, 335, 336, 337, 338, 339]\n",
      "Sending batch 35: [340, 341, 342, 343, 344, 345, 346, 347, 348, 349]\n",
      "Sending batch 36: [350, 351, 352, 353, 354, 355, 356, 357, 358, 359]\n",
      "Sending batch 37: [360, 361, 362, 363, 364, 365, 366, 367, 368, 369]\n",
      "Sending batch 38: [370, 371, 372, 373, 374, 375, 376, 377, 378, 379]\n",
      "Sending batch 39: [380, 381, 382, 383, 384, 385, 386, 387, 388, 389]\n",
      "Sending batch 40: [390, 391, 392, 393, 394, 395, 396, 397, 398, 399]\n",
      "Sending batch 41: [400, 401, 402, 403, 404, 405, 406, 407, 408, 409]\n",
      "Sending batch 42: [410, 411, 412, 413, 414, 415, 416, 417, 418, 419]\n",
      "Sending batch 43: [420, 421, 422, 423, 424, 425, 426, 427, 428, 429]\n",
      "Sending batch 44: [430, 431, 432, 433, 434, 435, 436, 437, 438, 439]\n",
      "Sending batch 45: [440, 441, 442, 443, 444, 445, 446, 447, 448, 449]\n",
      "Sending batch 46: [450, 451, 452, 453, 454, 455, 456, 457, 458, 459]\n",
      "Sending batch 47: [460, 461, 462, 463, 464, 465, 466, 467, 468, 469]\n",
      "Sending batch 48: [470, 471, 472, 473, 474, 475, 476, 477, 478, 479]\n",
      "Sending batch 49: [480, 481, 482, 483, 484, 485, 486, 487, 488, 489]\n",
      "Sending batch 50: [490, 491, 492, 493, 494, 495, 496, 497, 498, 499]\n",
      "Sending batch 51: [500, 501, 502, 503, 504, 505, 506, 507, 508, 509]\n",
      "Sending batch 52: [510, 511, 512, 513, 514, 515, 516, 517, 518, 519]\n",
      "Sending batch 53: [520, 521, 522, 523, 524, 525, 526, 527, 528, 529]\n",
      "Sending batch 54: [530, 531, 532, 533, 534, 535, 536, 537, 538, 539]\n",
      "Sending batch 55: [540, 541, 542, 543, 544, 545, 546, 547, 548, 549]\n",
      "Sending batch 56: [550, 551, 552, 553, 554, 555, 556, 557, 558, 559]\n",
      "Sending batch 57: [560, 561, 562, 563, 564, 565, 566, 567, 568, 569]\n",
      "Sending batch 58: [570, 571, 572, 573, 574, 575, 576, 577, 578, 579]\n",
      "Sending batch 59: [580, 581, 582, 583, 584, 585, 586, 587, 588, 589]\n",
      "Sending batch 60: [590, 591, 592, 593, 594, 595, 596, 597, 598, 599]\n",
      "Sending batch 61: [600, 601, 602, 603, 604, 605, 606, 607, 608, 609]\n",
      "Sending batch 62: [610, 611, 612, 613, 614, 615, 616, 617, 618, 619]\n",
      "Sending batch 63: [620, 621, 622, 623, 624, 625, 626, 627, 628, 629]\n",
      "Sending batch 64: [630, 631, 632, 633, 634, 635, 636, 637, 638, 639]\n",
      "Sending batch 65: [640, 641, 642, 643, 644, 645, 646, 647, 648, 649]\n",
      "Sending batch 66: [650, 651, 652, 653, 654, 655, 656, 657, 658, 659]\n",
      "Sending batch 67: [660, 661, 662, 663, 664, 665, 666, 667, 668, 669]\n",
      "Sending batch 68: [670, 671, 672, 673, 674, 675, 676, 677, 678, 679]\n",
      "Sending batch 69: [680, 681, 682, 683, 684, 685, 686, 687, 688, 689]\n",
      "Sending batch 70: [690, 691, 692, 693, 694, 695, 696, 697, 698, 699]\n",
      "Sending batch 71: [700, 701, 702, 703, 704, 705, 706, 707, 708, 709]\n",
      "Sending batch 72: [710, 711, 712, 713, 714, 715, 716, 717, 718, 719]\n",
      "Sending batch 73: [720, 721, 722, 723, 724, 725, 726, 727, 728, 729]\n",
      "Sending batch 74: [730, 731, 732, 733, 734, 735, 736, 737, 738, 739]\n",
      "Sending batch 75: [740, 741, 742, 743, 744, 745, 746, 747, 748, 749]\n",
      "Sending batch 76: [750, 751, 752, 753, 754, 755, 756, 757, 758, 759]\n",
      "Sending batch 77: [760, 761, 762, 763, 764, 765, 766, 767, 768, 769]\n",
      "Sending batch 78: [770, 771, 772, 773, 774, 775, 776, 777, 778, 779]\n",
      "Sending batch 79: [780, 781, 782, 783, 784, 785, 786, 787, 788, 789]\n",
      "Sending batch 80: [790, 791, 792, 793, 794, 795, 796, 797, 798, 799]\n",
      "Sending batch 81: [800, 801, 802, 803, 804, 805, 806, 807, 808, 809]\n",
      "Sending batch 82: [810, 811, 812, 813, 814, 815, 816, 817, 818, 819]\n",
      "Sending batch 83: [820, 821, 822, 823, 824, 825, 826, 827, 828, 829]\n",
      "Sending batch 84: [830, 831, 832, 833, 834, 835, 836, 837, 838, 839]\n",
      "Sending batch 85: [840, 841, 842, 843, 844, 845, 846, 847, 848, 849]\n",
      "Sending batch 86: [850, 851, 852, 853, 854, 855, 856, 857, 858, 859]\n",
      "Sending batch 87: [860, 861, 862, 863, 864, 865, 866, 867, 868, 869]\n",
      "Sending batch 88: [870, 871, 872, 873, 874, 875, 876, 877, 878, 879]\n",
      "Sending batch 89: [880, 881, 882, 883, 884, 885, 886, 887, 888, 889]\n",
      "Sending batch 90: [890, 891, 892, 893, 894, 895, 896, 897, 898, 899]\n",
      "Sending batch 91: [900, 901, 902, 903, 904, 905, 906, 907, 908, 909]\n",
      "Sending batch 92: [910, 911, 912, 913, 914, 915, 916, 917, 918, 919]\n",
      "Sending batch 93: [920, 921, 922, 923, 924, 925, 926, 927, 928, 929]\n",
      "Sending batch 94: [930, 931, 932, 933, 934, 935, 936, 937, 938, 939]\n",
      "Sending batch 95: [940, 941, 942, 943, 944, 945, 946, 947, 948, 949]\n",
      "Sending batch 96: [950, 951, 952, 953, 954, 955, 956, 957, 958, 959]\n",
      "Sending batch 97: [960, 961, 962, 963, 964, 965, 966, 967, 968, 969]\n",
      "Sending batch 98: [970, 971, 972, 973, 974, 975, 976, 977, 978, 979]\n",
      "Sending batch 99: [980, 981, 982, 983, 984, 985, 986, 987, 988, 989]\n",
      "Sending batch 100: [990, 991, 992, 993, 994, 995, 996, 997, 998, 999]\n",
      "Sending batch 101: [1000, 1001, 1002, 1003, 1004, 1005, 1006, 1007, 1008, 1009]\n",
      "Sending batch 102: [1010, 1011, 1012, 1013, 1014, 1015, 1016, 1017, 1018, 1019]\n",
      "Sending batch 103: [1020, 1021, 1022, 1023, 1024, 1025, 1026, 1027, 1028, 1029]\n",
      "Sending batch 104: [1030, 1031, 1032, 1033, 1034, 1035, 1036, 1037, 1038, 1039]\n",
      "Sending batch 105: [1040, 1041, 1042, 1043, 1044, 1045, 1046, 1047, 1048, 1049]\n",
      "Sending batch 106: [1050, 1051, 1052, 1053, 1054, 1055, 1056, 1057, 1058, 1059]\n",
      "Sending batch 107: [1060, 1061, 1062, 1063, 1064, 1065, 1066, 1067, 1068, 1069]\n",
      "Sending batch 108: [1070, 1071, 1072, 1073, 1074, 1075, 1076, 1077, 1078, 1079]\n",
      "Sending batch 109: [1080, 1081, 1082, 1083, 1084, 1085, 1086, 1087, 1088, 1089]\n",
      "Sending batch 110: [1090, 1091, 1092, 1093, 1094, 1095, 1096, 1097, 1098, 1099]\n",
      "Sending batch 111: [1100, 1101, 1102, 1103, 1104, 1105, 1106, 1107, 1108, 1109]\n",
      "Sending batch 112: [1110, 1111, 1112, 1113, 1114, 1115, 1116, 1117, 1118, 1119]\n",
      "Sending batch 113: [1120, 1121, 1122, 1123, 1124, 1125, 1126, 1127, 1128, 1129]\n",
      "Sending batch 114: [1130, 1131, 1132, 1133, 1134, 1135, 1136, 1137, 1138, 1139]\n",
      "Sending batch 115: [1140, 1141, 1142, 1143, 1144, 1145, 1146, 1147, 1148, 1149]\n",
      "Sending batch 116: [1150, 1151, 1152, 1153, 1154, 1155, 1156, 1157, 1158, 1159]\n",
      "Sending batch 117: [1160, 1161, 1162, 1163, 1164, 1165, 1166, 1167, 1168, 1169]\n",
      "Sending batch 118: [1170, 1171, 1172, 1173, 1174, 1175, 1176, 1177, 1178, 1179]\n",
      "Sending batch 119: [1180, 1181, 1182, 1183, 1184, 1185, 1186, 1187, 1188, 1189]\n",
      "Sending batch 120: [1190, 1191, 1192, 1193, 1194, 1195, 1196, 1197, 1198, 1199]\n",
      "Sending batch 121: [1200, 1201, 1202, 1203, 1204, 1205, 1206, 1207, 1208, 1209]\n",
      "Sending batch 122: [1210, 1211, 1212, 1213, 1214, 1215, 1216, 1217, 1218, 1219]\n",
      "Sending batch 123: [1220, 1221, 1222, 1223, 1224, 1225, 1226, 1227, 1228, 1229]\n",
      "Sending batch 124: [1230, 1231, 1232, 1233, 1234, 1235, 1236, 1237, 1238, 1239]\n",
      "Sending batch 125: [1240, 1241, 1242, 1243, 1244, 1245, 1246, 1247, 1248, 1249]\n",
      "Sending batch 126: [1250, 1251, 1252, 1253, 1254, 1255, 1256, 1257, 1258, 1259]\n",
      "Sending batch 127: [1260, 1261, 1262, 1263, 1264, 1265, 1266, 1267, 1268, 1269]\n",
      "Sending batch 128: [1270, 1271, 1272, 1273, 1274, 1275, 1276, 1277, 1278, 1279]\n",
      "Sending batch 129: [1280, 1281, 1282, 1283, 1284, 1285, 1286, 1287, 1288, 1289]\n",
      "Sending batch 130: [1290, 1291, 1292, 1293, 1294, 1295, 1296, 1297, 1298, 1299]\n",
      "Sending batch 131: [1300, 1301, 1302, 1303, 1304, 1305, 1306, 1307, 1308, 1309]\n",
      "Sending batch 132: [1310, 1311, 1312, 1313, 1314, 1315, 1316, 1317, 1318, 1319]\n",
      "Sending batch 133: [1320, 1321, 1322, 1323, 1324, 1325, 1326, 1327, 1328, 1329]\n",
      "Sending batch 134: [1330, 1331, 1332, 1333, 1334, 1335, 1336, 1337, 1338, 1339]\n",
      "Sending batch 135: [1340, 1341, 1342, 1343, 1344, 1345, 1346, 1347, 1348, 1349]\n",
      "Sending batch 136: [1350, 1351, 1352, 1353, 1354, 1355, 1356, 1357, 1358, 1359]\n",
      "Sending batch 137: [1360, 1361, 1362, 1363, 1364, 1365, 1366, 1367, 1368, 1369]\n",
      "Sending batch 138: [1370, 1371, 1372, 1373, 1374, 1375, 1376, 1377, 1378, 1379]\n",
      "Sending batch 139: [1380, 1381, 1382, 1383, 1384, 1385, 1386, 1387, 1388, 1389]\n",
      "Sending batch 140: [1390, 1391, 1392, 1393, 1394, 1395, 1396, 1397, 1398, 1399]\n",
      "Sending batch 141: [1400, 1401, 1402, 1403, 1404, 1405, 1406, 1407, 1408, 1409]\n",
      "Sending batch 142: [1410, 1411, 1412, 1413, 1414, 1415, 1416, 1417, 1418, 1419]\n",
      "Sending batch 143: [1420, 1421, 1422, 1423, 1424, 1425, 1426, 1427, 1428, 1429]\n",
      "Sending batch 144: [1430, 1431, 1432, 1433, 1434, 1435, 1436, 1437, 1438, 1439]\n",
      "Sending batch 145: [1440, 1441, 1442, 1443, 1444, 1445, 1446, 1447, 1448, 1449]\n",
      "Sending batch 146: [1450, 1451, 1452, 1453, 1454, 1455, 1456, 1457, 1458, 1459]\n",
      "Sending batch 147: [1460, 1461, 1462, 1463, 1464, 1465, 1466, 1467, 1468, 1469]\n",
      "Sending batch 148: [1470, 1471, 1472, 1473, 1474, 1475, 1476, 1477, 1478, 1479]\n",
      "Sending batch 149: [1480, 1481, 1482, 1483, 1484, 1485, 1486, 1487, 1488, 1489]\n",
      "Sending batch 150: [1490, 1491, 1492, 1493, 1494, 1495, 1496, 1497, 1498, 1499]\n",
      "Sending batch 151: [1500, 1501, 1502, 1503, 1504, 1505, 1506, 1507, 1508, 1509]\n",
      "Sending batch 152: [1510, 1511, 1512, 1513, 1514, 1515, 1516, 1517, 1518, 1519]\n",
      "Sending batch 153: [1520, 1521, 1522, 1523, 1524, 1525, 1526, 1527, 1528, 1529]\n",
      "Sending batch 154: [1530, 1531, 1532, 1533, 1534, 1535, 1536, 1537, 1538, 1539]\n",
      "Sending batch 155: [1540, 1541, 1542, 1543, 1544, 1545, 1546, 1547, 1548, 1549]\n",
      "Sending batch 156: [1550, 1551, 1552, 1553, 1554, 1555, 1556, 1557, 1558, 1559]\n",
      "Sending batch 157: [1560, 1561, 1562, 1563, 1564, 1565, 1566, 1567, 1568, 1569]\n",
      "Sending batch 158: [1570, 1571, 1572, 1573, 1574, 1575, 1576, 1577, 1578, 1579]\n",
      "Sending batch 159: [1580, 1581, 1582, 1583, 1584, 1585, 1586, 1587, 1588, 1589]\n",
      "Sending batch 160: [1590, 1591, 1592, 1593, 1594, 1595, 1596, 1597, 1598, 1599]\n",
      "Sending batch 161: [1600, 1601, 1602, 1603, 1604, 1605, 1606, 1607, 1608, 1609]\n",
      "Sending batch 162: [1610, 1611, 1612, 1613, 1614, 1615, 1616, 1617, 1618, 1619]\n",
      "Sending batch 163: [1620, 1621, 1622, 1623, 1624, 1625, 1626, 1627, 1628, 1629]\n",
      "Sending batch 164: [1630, 1631, 1632, 1633, 1634, 1635, 1636, 1637, 1638, 1639]\n",
      "Sending batch 165: [1640, 1641, 1642, 1643, 1644, 1645, 1646, 1647, 1648, 1649]\n",
      "Sending batch 166: [1650, 1651, 1652, 1653, 1654, 1655, 1656, 1657, 1658, 1659]\n",
      "Sending batch 167: [1660, 1661, 1662, 1663, 1664, 1665, 1666, 1667, 1668, 1669]\n",
      "Sending batch 168: [1670, 1671, 1672, 1673, 1674, 1675, 1676, 1677, 1678, 1679]\n",
      "Sending batch 169: [1680, 1681, 1682, 1683, 1684, 1685, 1686, 1687, 1688, 1689]\n",
      "Sending batch 170: [1690, 1691, 1692, 1693, 1694, 1695, 1696, 1697, 1698, 1699]\n",
      "Sending batch 171: [1700, 1701, 1702, 1703, 1704, 1705, 1706, 1707, 1708, 1709]\n",
      "Sending batch 172: [1710, 1711, 1712, 1713, 1714, 1715, 1716, 1717, 1718, 1719]\n",
      "Sending batch 173: [1720, 1721, 1722, 1723, 1724, 1725, 1726, 1727, 1728, 1729]\n",
      "Sending batch 174: [1730, 1731, 1732, 1733, 1734, 1735, 1736, 1737, 1738, 1739]\n",
      "Sending batch 175: [1740, 1741, 1742, 1743, 1744, 1745, 1746, 1747, 1748, 1749]\n",
      "Sending batch 176: [1750, 1751, 1752, 1753, 1754, 1755, 1756, 1757, 1758, 1759]\n",
      "Sending batch 177: [1760, 1761, 1762, 1763, 1764, 1765, 1766, 1767, 1768, 1769]\n",
      "Sending batch 178: [1770, 1771, 1772, 1773, 1774, 1775, 1776, 1777, 1778, 1779]\n",
      "Sending batch 179: [1780, 1781, 1782, 1783, 1784, 1785, 1786, 1787, 1788, 1789]\n",
      "Sending batch 180: [1790, 1791, 1792, 1793, 1794, 1795, 1796, 1797, 1798, 1799]\n",
      "Sending batch 181: [1800, 1801, 1802, 1803, 1804, 1805, 1806, 1807, 1808, 1809]\n",
      "Sending batch 182: [1810, 1811, 1812, 1813, 1814, 1815, 1816, 1817, 1818, 1819]\n",
      "Sending batch 183: [1820, 1821, 1822, 1823, 1824, 1825, 1826, 1827, 1828, 1829]\n",
      "Sending batch 184: [1830, 1831, 1832, 1833, 1834, 1835, 1836, 1837, 1838, 1839]\n",
      "Sending batch 185: [1840, 1841, 1842, 1843, 1844, 1845, 1846, 1847, 1848, 1849]\n",
      "Sending batch 186: [1850, 1851, 1852, 1853, 1854, 1855, 1856, 1857, 1858, 1859]\n",
      "Sending batch 187: [1860, 1861, 1862, 1863, 1864, 1865, 1866, 1867, 1868, 1869]\n",
      "Sending batch 188: [1870, 1871, 1872, 1873, 1874, 1875, 1876, 1877, 1878, 1879]\n",
      "Sending batch 189: [1880, 1881, 1882, 1883, 1884, 1885, 1886, 1887, 1888, 1889]\n",
      "Sending batch 190: [1890, 1891, 1892, 1893, 1894, 1895, 1896, 1897, 1898, 1899]\n",
      "Sending batch 191: [1900, 1901, 1902, 1903, 1904, 1905, 1906, 1907, 1908, 1909]\n",
      "Sending batch 192: [1910, 1911, 1912, 1913, 1914, 1915, 1916, 1917, 1918, 1919]\n",
      "Sending batch 193: [1920, 1921, 1922, 1923, 1924, 1925, 1926, 1927, 1928, 1929]\n",
      "Sending batch 194: [1930, 1931, 1932, 1933, 1934, 1935, 1936, 1937, 1938, 1939]\n",
      "Sending batch 195: [1940, 1941, 1942, 1943, 1944, 1945, 1946, 1947, 1948, 1949]\n",
      "Sending batch 196: [1950, 1951, 1952, 1953, 1954, 1955, 1956, 1957, 1958, 1959]\n",
      "Sending batch 197: [1960, 1961, 1962, 1963, 1964, 1965, 1966, 1967, 1968, 1969]\n",
      "Sending batch 198: [1970, 1971, 1972, 1973, 1974, 1975, 1976, 1977, 1978, 1979]\n",
      "Sending batch 199: [1980, 1981, 1982, 1983, 1984, 1985, 1986, 1987, 1988, 1989]\n",
      "Sending batch 200: [1990, 1991, 1992, 1993, 1994, 1995, 1996, 1997, 1998, 1999]\n",
      "Sending batch 201: [2000, 2001, 2002, 2003, 2004, 2005, 2006, 2007, 2008, 2009]\n",
      "Sending batch 202: [2010, 2011, 2012, 2013, 2014, 2015, 2016, 2017, 2018, 2019]\n",
      "Sending batch 203: [2020, 2021, 2022, 2023, 2024, 2025, 2026, 2027, 2028, 2029]\n",
      "Sending batch 204: [2030, 2031, 2032, 2033, 2034, 2035, 2036, 2037, 2038, 2039]\n",
      "Sending batch 205: [2040, 2041, 2042, 2043, 2044, 2045, 2046, 2047, 2048, 2049]\n",
      "Sending batch 206: [2050, 2051, 2052, 2053, 2054, 2055, 2056, 2057, 2058, 2059]\n",
      "Sending batch 207: [2060, 2061, 2062, 2063, 2064, 2065, 2066, 2067, 2068, 2069]\n",
      "Sending batch 208: [2070, 2071, 2072, 2073, 2074, 2075, 2076, 2077, 2078, 2079]\n",
      "Sending batch 209: [2080, 2081, 2082, 2083, 2084, 2085, 2086, 2087, 2088, 2089]\n",
      "Sending batch 210: [2090, 2091, 2092, 2093, 2094, 2095, 2096, 2097, 2098, 2099]\n",
      "Sending batch 211: [2100, 2101, 2102, 2103, 2104, 2105, 2106, 2107, 2108, 2109]\n",
      "Sending batch 212: [2110, 2111, 2112, 2113, 2114, 2115, 2116, 2117, 2118, 2119]\n",
      "Sending batch 213: [2120, 2121, 2122, 2123, 2124, 2125, 2126, 2127, 2128, 2129]\n",
      "Sending batch 214: [2130, 2131, 2132, 2133, 2134, 2135, 2136, 2137, 2138, 2139]\n",
      "Sending batch 215: [2140, 2141, 2142, 2143, 2144, 2145, 2146, 2147, 2148, 2149]\n",
      "Sending batch 216: [2150, 2151, 2152, 2153, 2154, 2155, 2156, 2157, 2158, 2159]\n",
      "Sending batch 217: [2160, 2161, 2162, 2163, 2164, 2165, 2166, 2167, 2168, 2169]\n",
      "Sending batch 218: [2170, 2171, 2172, 2173, 2174, 2175, 2176, 2177, 2178, 2179]\n",
      "Sending batch 219: [2180, 2181, 2182, 2183, 2184, 2185, 2186, 2187, 2188, 2189]\n",
      "Sending batch 220: [2190, 2191, 2192, 2193, 2194, 2195, 2196, 2197, 2198, 2199]\n",
      "Sending batch 221: [2200, 2201, 2202, 2203, 2204, 2205, 2206, 2207, 2208, 2209]\n",
      "Sending batch 222: [2210, 2211, 2212, 2213, 2214, 2215, 2216, 2217, 2218, 2219]\n",
      "Sending batch 223: [2220, 2221, 2222, 2223, 2224, 2225, 2226, 2227, 2228, 2229]\n",
      "Sending batch 224: [2230, 2231, 2232, 2233, 2234, 2235, 2236, 2237, 2238, 2239]\n",
      "Sending batch 225: [2240, 2241, 2242, 2243, 2244, 2245, 2246, 2247, 2248, 2249]\n",
      "Sending batch 226: [2250, 2251, 2252, 2253, 2254, 2255, 2256, 2257, 2258, 2259]\n",
      "Sending batch 227: [2260, 2261, 2262, 2263, 2264, 2265, 2266, 2267, 2268, 2269]\n",
      "Sending batch 228: [2270, 2271, 2272, 2273, 2274, 2275, 2276, 2277, 2278, 2279]\n",
      "Sending batch 229: [2280, 2281, 2282, 2283, 2284, 2285, 2286, 2287, 2288, 2289]\n",
      "Sending batch 230: [2290, 2291, 2292, 2293, 2294, 2295, 2296, 2297, 2298, 2299]\n",
      "Sending batch 231: [2300, 2301, 2302, 2303, 2304, 2305, 2306, 2307, 2308, 2309]\n",
      "Sending batch 232: [2310, 2311, 2312, 2313, 2314, 2315, 2316, 2317, 2318, 2319]\n",
      "Sending batch 233: [2320, 2321, 2322, 2323, 2324, 2325, 2326, 2327, 2328, 2329]\n",
      "Sending batch 234: [2330, 2331, 2332, 2333, 2334, 2335, 2336, 2337, 2338, 2339]\n",
      "Sending batch 235: [2340, 2341, 2342, 2343, 2344, 2345, 2346, 2347, 2348, 2349]\n",
      "Sending batch 236: [2350, 2351, 2352, 2353, 2354, 2355, 2356, 2357, 2358, 2359]\n",
      "Sending batch 237: [2360, 2361, 2362, 2363, 2364, 2365, 2366, 2367, 2368, 2369]\n",
      "Sending batch 238: [2370, 2371, 2372, 2373, 2374, 2375, 2376, 2377, 2378, 2379]\n",
      "Sending batch 239: [2380, 2381, 2382, 2383, 2384, 2385, 2386, 2387, 2388, 2389]\n",
      "Sending batch 240: [2390, 2391, 2392, 2393, 2394, 2395, 2396, 2397, 2398, 2399]\n",
      "Sending batch 241: [2400, 2401, 2402, 2403, 2404, 2405, 2406, 2407, 2408, 2409]\n",
      "Sending batch 242: [2410, 2411, 2412, 2413, 2414, 2415, 2416, 2417, 2418, 2419]\n",
      "Sending batch 243: [2420, 2421, 2422, 2423, 2424, 2425, 2426, 2427, 2428, 2429]\n",
      "Sending batch 244: [2430, 2431, 2432, 2433, 2434, 2435, 2436, 2437, 2438, 2439]\n",
      "Sending batch 245: [2440, 2441, 2442, 2443, 2444, 2445, 2446, 2447, 2448, 2449]\n",
      "Sending batch 246: [2450, 2451, 2452, 2453, 2454, 2455, 2456, 2457, 2458, 2459]\n",
      "Sending batch 247: [2460, 2461, 2462, 2463, 2464, 2465, 2466, 2467, 2468, 2469]\n",
      "Sending batch 248: [2470, 2471, 2472, 2473, 2474, 2475, 2476, 2477, 2478, 2479]\n",
      "Sending batch 249: [2480, 2481, 2482, 2483, 2484, 2485, 2486, 2487, 2488, 2489]\n",
      "Sending batch 250: [2490, 2491, 2492, 2493, 2494, 2495, 2496, 2497, 2498, 2499]\n",
      "Sending batch 251: [2500, 2501, 2502, 2503, 2504, 2505, 2506, 2507, 2508, 2509]\n",
      "Sending batch 252: [2510, 2511, 2512, 2513, 2514, 2515, 2516, 2517, 2518, 2519]\n",
      "Sending batch 253: [2520, 2521, 2522, 2523, 2524, 2525, 2526, 2527, 2528, 2529]\n",
      "Sending batch 254: [2530, 2531, 2532, 2533, 2534, 2535, 2536, 2537, 2538, 2539]\n",
      "Sending batch 255: [2540, 2541, 2542, 2543, 2544, 2545, 2546, 2547, 2548, 2549]\n",
      "Sending batch 256: [2550, 2551, 2552, 2553, 2554, 2555, 2556, 2557, 2558, 2559]\n",
      "Sending batch 257: [2560, 2561, 2562, 2563, 2564, 2565, 2566, 2567, 2568, 2569]\n",
      "Sending batch 258: [2570, 2571, 2572, 2573, 2574, 2575, 2576, 2577, 2578, 2579]\n",
      "Sending batch 259: [2580, 2581, 2582, 2583, 2584, 2585, 2586, 2587, 2588, 2589]\n",
      "Sending batch 260: [2590, 2591, 2592, 2593, 2594, 2595, 2596, 2597, 2598, 2599]\n",
      "Sending batch 261: [2600, 2601, 2602, 2603, 2604, 2605, 2606, 2607, 2608, 2609]\n",
      "Sending batch 262: [2610, 2611, 2612, 2613, 2614, 2615, 2616, 2617, 2618, 2619]\n",
      "Sending batch 263: [2620, 2621, 2622, 2623, 2624, 2625, 2626, 2627, 2628, 2629]\n",
      "Sending batch 264: [2630, 2631, 2632, 2633, 2634, 2635, 2636, 2637, 2638, 2639]\n",
      "Sending batch 265: [2640, 2641, 2642, 2643, 2644, 2645, 2646, 2647, 2648, 2649]\n",
      "Sending batch 266: [2650, 2651, 2652, 2653, 2654, 2655, 2656, 2657, 2658, 2659]\n",
      "Sending batch 267: [2660, 2661, 2662, 2663, 2664, 2665, 2666, 2667, 2668, 2669]\n",
      "Sending batch 268: [2670, 2671, 2672, 2673, 2674, 2675, 2676, 2677, 2678, 2679]\n",
      "Sending batch 269: [2680, 2681, 2682, 2683, 2684, 2685, 2686, 2687, 2688, 2689]\n",
      "Sending batch 270: [2690, 2691, 2692, 2693, 2694, 2695, 2696, 2697, 2698, 2699]\n",
      "Sending batch 271: [2700, 2701, 2702, 2703, 2704, 2705, 2706, 2707, 2708, 2709]\n",
      "Sending batch 272: [2710, 2711, 2712, 2713, 2714, 2715, 2716, 2717, 2718, 2719]\n",
      "Sending batch 273: [2720, 2721, 2722, 2723, 2724, 2725, 2726, 2727, 2728, 2729]\n",
      "Sending batch 274: [2730, 2731, 2732, 2733, 2734, 2735, 2736, 2737, 2738, 2739]\n",
      "Sending batch 275: [2740, 2741, 2742, 2743, 2744, 2745, 2746, 2747, 2748, 2749]\n",
      "Sending batch 276: [2750, 2751, 2752, 2753, 2754, 2755, 2756, 2757, 2758, 2759]\n",
      "Sending batch 277: [2760, 2761, 2762, 2763, 2764, 2765, 2766, 2767, 2768, 2769]\n",
      "Sending batch 278: [2770, 2771, 2772, 2773, 2774, 2775, 2776, 2777, 2778, 2779]\n",
      "Sending batch 279: [2780, 2781, 2782, 2783, 2784, 2785, 2786, 2787, 2788, 2789]\n",
      "Sending batch 280: [2790, 2791, 2792, 2793, 2794, 2795, 2796, 2797, 2798, 2799]\n",
      "Sending batch 281: [2800, 2801, 2802, 2803, 2804, 2805, 2806, 2807, 2808, 2809]\n",
      "Sending batch 282: [2810, 2811, 2812, 2813, 2814, 2815, 2816, 2817, 2818, 2819]\n",
      "Sending batch 283: [2820, 2821, 2822, 2823, 2824, 2825, 2826, 2827, 2828, 2829]\n",
      "Sending batch 284: [2830, 2831, 2832, 2833, 2834, 2835, 2836, 2837, 2838, 2839]\n",
      "Sending batch 285: [2840, 2841, 2842, 2843, 2844, 2845, 2846, 2847, 2848, 2849]\n",
      "Sending batch 286: [2850, 2851, 2852, 2853, 2854, 2855, 2856, 2857, 2858, 2859]\n",
      "Sending batch 287: [2860, 2861, 2862, 2863, 2864, 2865, 2866, 2867, 2868, 2869]\n",
      "Sending batch 288: [2870, 2871, 2872, 2873, 2874, 2875, 2876, 2877, 2878, 2879]\n",
      "Sending batch 289: [2880, 2881, 2882, 2883, 2884, 2885, 2886, 2887, 2888, 2889]\n",
      "Sending batch 290: [2890, 2891, 2892, 2893, 2894, 2895, 2896, 2897, 2898, 2899]\n",
      "Sending batch 291: [2900, 2901, 2902, 2903, 2904, 2905, 2906, 2907, 2908, 2909]\n",
      "Sending batch 292: [2910, 2911, 2912, 2913, 2914, 2915, 2916, 2917, 2918, 2919]\n",
      "Sending batch 293: [2920, 2921, 2922, 2923, 2924, 2925, 2926, 2927, 2928, 2929]\n",
      "Sending batch 294: [2930, 2931, 2932, 2933, 2934, 2935, 2936, 2937, 2938, 2939]\n",
      "Sending batch 295: [2940, 2941, 2942, 2943, 2944, 2945, 2946, 2947, 2948, 2949]\n",
      "Sending batch 296: [2950, 2951, 2952, 2953, 2954, 2955, 2956, 2957, 2958, 2959]\n",
      "Sending batch 297: [2960, 2961, 2962, 2963, 2964, 2965, 2966, 2967, 2968, 2969]\n",
      "Sending batch 298: [2970, 2971, 2972, 2973, 2974, 2975, 2976, 2977, 2978, 2979]\n",
      "Sending batch 299: [2980, 2981, 2982, 2983, 2984, 2985, 2986, 2987, 2988, 2989]\n",
      "Sending batch 300: [2990, 2991, 2992, 2993, 2994, 2995, 2996, 2997, 2998, 2999]\n",
      "Sending batch 301: [3000, 3001, 3002, 3003, 3004, 3005, 3006, 3007, 3008, 3009]\n",
      "Sending batch 302: [3010, 3011, 3012, 3013, 3014, 3015, 3016, 3017, 3018, 3019]\n",
      "Sending batch 303: [3020, 3021, 3022, 3023, 3024, 3025, 3026, 3027, 3028, 3029]\n",
      "Sending batch 304: [3030, 3031, 3032, 3033, 3034, 3035, 3036, 3037, 3038, 3039]\n",
      "Sending batch 305: [3040, 3041, 3042, 3043, 3044, 3045, 3046, 3047, 3048, 3049]\n",
      "Sending batch 306: [3050, 3051, 3052, 3053, 3054, 3055, 3056, 3057, 3058, 3059]\n",
      "Sending batch 307: [3060, 3061, 3062, 3063, 3064, 3065, 3066, 3067, 3068, 3069]\n",
      "Sending batch 308: [3070, 3071, 3072, 3073, 3074, 3075, 3076, 3077, 3078, 3079]\n",
      "Sending batch 309: [3080, 3081, 3082, 3083, 3084, 3085, 3086, 3087, 3088, 3089]\n",
      "Sending batch 310: [3090, 3091, 3092, 3093, 3094, 3095, 3096, 3097, 3098, 3099]\n",
      "Sending batch 311: [3100, 3101, 3102, 3103, 3104, 3105, 3106, 3107, 3108, 3109]\n",
      "Sending batch 312: [3110, 3111, 3112, 3113, 3114, 3115, 3116, 3117, 3118, 3119]\n",
      "Sending batch 313: [3120, 3121, 3122, 3123, 3124, 3125, 3126, 3127, 3128, 3129]\n",
      "Sending batch 314: [3130, 3131, 3132, 3133, 3134, 3135, 3136, 3137, 3138, 3139]\n",
      "Sending batch 315: [3140, 3141, 3142, 3143, 3144, 3145, 3146, 3147, 3148, 3149]\n",
      "Sending batch 316: [3150, 3151, 3152, 3153, 3154, 3155, 3156, 3157, 3158, 3159]\n",
      "Sending batch 317: [3160, 3161, 3162, 3163, 3164, 3165, 3166, 3167, 3168, 3169]\n",
      "Sending batch 318: [3170, 3171, 3172, 3173, 3174, 3175, 3176, 3177, 3178, 3179]\n",
      "Sending batch 319: [3180, 3181, 3182, 3183, 3184, 3185, 3186, 3187, 3188, 3189]\n",
      "Sending batch 320: [3190, 3191, 3192, 3193, 3194, 3195, 3196, 3197, 3198, 3199]\n",
      "Sending batch 321: [3200, 3201, 3202, 3203, 3204, 3205, 3206, 3207, 3208, 3209]\n",
      "Sending batch 322: [3210, 3211, 3212, 3213, 3214, 3215, 3216, 3217, 3218, 3219]\n",
      "Sending batch 323: [3220, 3221, 3222, 3223, 3224, 3225, 3226, 3227, 3228, 3229]\n",
      "Sending batch 324: [3230, 3231, 3232, 3233, 3234, 3235, 3236, 3237, 3238, 3239]\n",
      "Sending batch 325: [3240, 3241, 3242, 3243, 3244, 3245, 3246, 3247, 3248, 3249]\n",
      "Sending batch 326: [3250, 3251, 3252, 3253, 3254, 3255, 3256, 3257, 3258, 3259]\n",
      "Sending batch 327: [3260, 3261, 3262, 3263, 3264, 3265, 3266, 3267, 3268, 3269]\n",
      "Sending batch 328: [3270, 3271, 3272, 3273, 3274, 3275, 3276, 3277, 3278, 3279]\n",
      "Sending batch 329: [3280, 3281, 3282, 3283, 3284, 3285, 3286, 3287, 3288, 3289]\n",
      "Sending batch 330: [3290, 3291, 3292, 3293, 3294, 3295, 3296, 3297, 3298, 3299]\n",
      "Sending batch 331: [3300, 3301, 3302, 3303, 3304, 3305, 3306, 3307, 3308, 3309]\n",
      "Sending batch 332: [3310, 3311, 3312, 3313, 3314, 3315, 3316, 3317, 3318, 3319]\n",
      "Sending batch 333: [3320, 3321, 3322, 3323, 3324, 3325, 3326, 3327, 3328, 3329]\n",
      "Sending batch 334: [3330, 3331, 3332, 3333, 3334, 3335, 3336, 3337, 3338, 3339]\n",
      "Sending batch 335: [3340, 3341, 3342, 3343, 3344, 3345, 3346, 3347, 3348, 3349]\n",
      "Sending batch 336: [3350, 3351, 3352, 3353, 3354, 3355, 3356, 3357, 3358, 3359]\n",
      "Sending batch 337: [3360, 3361, 3362, 3363, 3364, 3365, 3366, 3367, 3368, 3369]\n",
      "Sending batch 338: [3370, 3371, 3372, 3373, 3374, 3375, 3376, 3377, 3378, 3379]\n",
      "Sending batch 339: [3380, 3381, 3382, 3383, 3384, 3385, 3386, 3387, 3388, 3389]\n",
      "Sending batch 340: [3390, 3391, 3392, 3393, 3394, 3395, 3396, 3397, 3398, 3399]\n",
      "Sending batch 341: [3400, 3401, 3402, 3403, 3404, 3405, 3406, 3407, 3408, 3409]\n",
      "Sending batch 342: [3410, 3411, 3412, 3413, 3414, 3415, 3416, 3417, 3418, 3419]\n",
      "Sending batch 343: [3420, 3421, 3422, 3423, 3424, 3425, 3426, 3427, 3428, 3429]\n",
      "Sending batch 344: [3430, 3431, 3432, 3433, 3434, 3435, 3436, 3437, 3438, 3439]\n",
      "Sending batch 345: [3440, 3441, 3442, 3443, 3444, 3445, 3446, 3447, 3448, 3449]\n",
      "Sending batch 346: [3450, 3451, 3452, 3453, 3454, 3455, 3456, 3457, 3458, 3459]\n",
      "Sending batch 347: [3460, 3461, 3462, 3463, 3464, 3465, 3466, 3467, 3468, 3469]\n",
      "Sending batch 348: [3470, 3471, 3472, 3473, 3474, 3475, 3476, 3477, 3478, 3479]\n",
      "Sending batch 349: [3480, 3481, 3482, 3483, 3484, 3485, 3486, 3487, 3488, 3489]\n",
      "Sending batch 350: [3490, 3491, 3492, 3493, 3494, 3495, 3496, 3497, 3498, 3499]\n",
      "Sending batch 351: [3500, 3501, 3502, 3503, 3504, 3505, 3506, 3507, 3508, 3509]\n",
      "Sending batch 352: [3510, 3511, 3512, 3513, 3514, 3515, 3516, 3517, 3518, 3519]\n",
      "Sending batch 353: [3520, 3521, 3522, 3523, 3524, 3525, 3526, 3527, 3528, 3529]\n",
      "Sending batch 354: [3530, 3531, 3532, 3533, 3534, 3535, 3536, 3537, 3538, 3539]\n",
      "Sending batch 355: [3540, 3541, 3542, 3543, 3544, 3545, 3546, 3547, 3548, 3549]\n",
      "Sending batch 356: [3550, 3551, 3552, 3553, 3554, 3555, 3556, 3557, 3558, 3559]\n",
      "Sending batch 357: [3560, 3561, 3562, 3563, 3564, 3565, 3566, 3567, 3568, 3569]\n",
      "Sending batch 358: [3570, 3571, 3572, 3573, 3574, 3575, 3576, 3577, 3578, 3579]\n",
      "Sending batch 359: [3580, 3581, 3582, 3583, 3584, 3585, 3586, 3587, 3588, 3589]\n",
      "Sending batch 360: [3590, 3591, 3592, 3593, 3594, 3595, 3596, 3597, 3598, 3599]\n",
      "Sending batch 361: [3600, 3601, 3602, 3603, 3604, 3605, 3606, 3607, 3608, 3609]\n",
      "Sending batch 362: [3610, 3611, 3612, 3613, 3614, 3615, 3616, 3617, 3618, 3619]\n",
      "Sending batch 363: [3620, 3621, 3622, 3623, 3624, 3625, 3626, 3627, 3628, 3629]\n",
      "Sending batch 364: [3630, 3631, 3632, 3633, 3634, 3635, 3636, 3637, 3638, 3639]\n",
      "Sending batch 365: [3640, 3641, 3642, 3643, 3644, 3645, 3646, 3647, 3648, 3649]\n",
      "Sending batch 366: [3650, 3651, 3652, 3653, 3654, 3655, 3656, 3657, 3658, 3659]\n",
      "Sending batch 367: [3660, 3661, 3662, 3663, 3664, 3665, 3666, 3667, 3668, 3669]\n",
      "Sending batch 368: [3670, 3671, 3672, 3673, 3674, 3675, 3676, 3677, 3678, 3679]\n",
      "Sending batch 369: [3680, 3681, 3682, 3683, 3684, 3685, 3686, 3687, 3688, 3689]\n",
      "Sending batch 370: [3690, 3691, 3692, 3693, 3694, 3695, 3696, 3697, 3698, 3699]\n",
      "Sending batch 371: [3700, 3701, 3702, 3703, 3704, 3705, 3706, 3707, 3708, 3709]\n",
      "Sending batch 372: [3710, 3711, 3712, 3713, 3714, 3715, 3716, 3717, 3718, 3719]\n",
      "Sending batch 373: [3720, 3721, 3722, 3723, 3724, 3725, 3726, 3727, 3728, 3729]\n",
      "Sending batch 374: [3730, 3731, 3732, 3733, 3734, 3735, 3736, 3737, 3738, 3739]\n",
      "Sending batch 375: [3740, 3741, 3742, 3743, 3744, 3745, 3746, 3747, 3748, 3749]\n",
      "Sending batch 376: [3750, 3751, 3752, 3753, 3754, 3755, 3756, 3757, 3758, 3759]\n",
      "Sending batch 377: [3760, 3761, 3762, 3763, 3764, 3765, 3766, 3767, 3768, 3769]\n",
      "Sending batch 378: [3770, 3771, 3772, 3773, 3774, 3775, 3776, 3777, 3778, 3779]\n",
      "Sending batch 379: [3780, 3781, 3782, 3783, 3784, 3785, 3786, 3787, 3788, 3789]\n",
      "Sending batch 380: [3790, 3791, 3792, 3793, 3794, 3795, 3796, 3797, 3798, 3799]\n",
      "Sending batch 381: [3800, 3801, 3802, 3803, 3804, 3805, 3806, 3807, 3808, 3809]\n",
      "Sending batch 382: [3810, 3811, 3812, 3813, 3814, 3815, 3816, 3817, 3818, 3819]\n",
      "Sending batch 383: [3820, 3821, 3822, 3823, 3824, 3825, 3826, 3827, 3828, 3829]\n",
      "Sending batch 384: [3830, 3831, 3832, 3833, 3834, 3835, 3836, 3837, 3838, 3839]\n",
      "Sending batch 385: [3840, 3841, 3842, 3843, 3844, 3845, 3846, 3847, 3848, 3849]\n",
      "Sending batch 386: [3850, 3851, 3852, 3853, 3854, 3855, 3856, 3857, 3858, 3859]\n",
      "Sending batch 387: [3860, 3861, 3862, 3863, 3864, 3865, 3866, 3867, 3868, 3869]\n",
      "Sending batch 388: [3870, 3871, 3872, 3873, 3874, 3875, 3876, 3877, 3878, 3879]\n",
      "Sending batch 389: [3880, 3881, 3882, 3883, 3884, 3885, 3886, 3887, 3888, 3889]\n",
      "Sending batch 390: [3890, 3891, 3892, 3893, 3894, 3895, 3896, 3897, 3898, 3899]\n",
      "Sending batch 391: [3900, 3901, 3902, 3903, 3904, 3905, 3906, 3907, 3908, 3909]\n",
      "Sending batch 392: [3910, 3911, 3912, 3913, 3914, 3915, 3916, 3917, 3918, 3919]\n",
      "Sending batch 393: [3920, 3921, 3922, 3923, 3924, 3925, 3926, 3927, 3928, 3929]\n",
      "Sending batch 394: [3930, 3931, 3932, 3933, 3934, 3935, 3936, 3937, 3938, 3939]\n",
      "Sending batch 395: [3940, 3941, 3942, 3943, 3944, 3945, 3946, 3947, 3948, 3949]\n",
      "Sending batch 396: [3950, 3951, 3952, 3953, 3954, 3955, 3956, 3957, 3958, 3959]\n",
      "Sending batch 397: [3960, 3961, 3962, 3963, 3964, 3965, 3966, 3967, 3968, 3969]\n",
      "Sending batch 398: [3970, 3971, 3972, 3973, 3974, 3975, 3976, 3977, 3978, 3979]\n",
      "Sending batch 399: [3980, 3981, 3982, 3983, 3984, 3985, 3986, 3987, 3988, 3989]\n",
      "Sending batch 400: [3990, 3991, 3992, 3993, 3994, 3995, 3996, 3997, 3998, 3999]\n",
      "Sending batch 401: [4000, 4001, 4002, 4003, 4004, 4005, 4006, 4007, 4008, 4009]\n",
      "Sending batch 402: [4010, 4011, 4012, 4013, 4014, 4015, 4016, 4017, 4018, 4019]\n",
      "Sending batch 403: [4020, 4021, 4022, 4023, 4024, 4025, 4026, 4027, 4028, 4029]\n",
      "Sending batch 404: [4030, 4031, 4032, 4033, 4034, 4035, 4036, 4037, 4038, 4039]\n",
      "Sending batch 405: [4040, 4041, 4042, 4043, 4044, 4045, 4046, 4047, 4048, 4049]\n",
      "Sending batch 406: [4050, 4051, 4052, 4053, 4054, 4055, 4056, 4057, 4058, 4059]\n",
      "Sending batch 407: [4060, 4061, 4062, 4063, 4064, 4065, 4066, 4067, 4068, 4069]\n",
      "Sending batch 408: [4070, 4071, 4072, 4073, 4074, 4075, 4076, 4077, 4078, 4079]\n",
      "Sending batch 409: [4080, 4081, 4082, 4083, 4084, 4085, 4086, 4087, 4088, 4089]\n",
      "Sending batch 410: [4090, 4091, 4092, 4093, 4094, 4095, 4096, 4097, 4098, 4099]\n",
      "Sending batch 411: [4100, 4101, 4102, 4103, 4104, 4105, 4106, 4107, 4108, 4109]\n",
      "Sending batch 412: [4110, 4111, 4112, 4113, 4114, 4115, 4116, 4117, 4118, 4119]\n",
      "Sending batch 413: [4120, 4121, 4122, 4123, 4124, 4125, 4126, 4127, 4128, 4129]\n",
      "Sending batch 414: [4130, 4131, 4132, 4133, 4134, 4135, 4136, 4137, 4138, 4139]\n",
      "Sending batch 415: [4140, 4141, 4142, 4143, 4144, 4145, 4146, 4147, 4148, 4149]\n",
      "Sending batch 416: [4150, 4151, 4152, 4153, 4154, 4155, 4156, 4157, 4158, 4159]\n",
      "Sending batch 417: [4160, 4161, 4162, 4163, 4164, 4165, 4166, 4167, 4168, 4169]\n",
      "Sending batch 418: [4170, 4171, 4172, 4173, 4174, 4175, 4176, 4177, 4178, 4179]\n",
      "Sending batch 419: [4180, 4181, 4182, 4183, 4184, 4185, 4186, 4187, 4188, 4189]\n",
      "Sending batch 420: [4190, 4191, 4192, 4193, 4194, 4195, 4196, 4197, 4198, 4199]\n",
      "Sending batch 421: [4200, 4201, 4202, 4203, 4204, 4205, 4206, 4207, 4208, 4209]\n",
      "Sending batch 422: [4210, 4211, 4212, 4213, 4214, 4215, 4216, 4217, 4218, 4219]\n",
      "Sending batch 423: [4220, 4221, 4222, 4223, 4224, 4225, 4226, 4227, 4228, 4229]\n",
      "Sending batch 424: [4230, 4231, 4232, 4233, 4234, 4235, 4236, 4237, 4238, 4239]\n",
      "Sending batch 425: [4240, 4241, 4242, 4243, 4244, 4245, 4246, 4247, 4248, 4249]\n",
      "Sending batch 426: [4250, 4251, 4252, 4253, 4254, 4255, 4256, 4257, 4258, 4259]\n",
      "Sending batch 427: [4260, 4261, 4262, 4263, 4264, 4265, 4266, 4267, 4268, 4269]\n",
      "Sending batch 428: [4270, 4271, 4272, 4273, 4274, 4275, 4276, 4277, 4278, 4279]\n",
      "Sending batch 429: [4280, 4281, 4282, 4283, 4284, 4285, 4286, 4287, 4288, 4289]\n",
      "Sending batch 430: [4290, 4291, 4292, 4293, 4294, 4295, 4296, 4297, 4298, 4299]\n",
      "Sending batch 431: [4300, 4301, 4302, 4303, 4304, 4305, 4306, 4307, 4308, 4309]\n",
      "Sending batch 432: [4310, 4311, 4312, 4313, 4314, 4315, 4316, 4317, 4318, 4319]\n",
      "Sending batch 433: [4320, 4321, 4322, 4323, 4324, 4325, 4326, 4327, 4328, 4329]\n",
      "Sending batch 434: [4330, 4331, 4332, 4333, 4334, 4335, 4336, 4337, 4338, 4339]\n",
      "Sending batch 435: [4340, 4341, 4342, 4343, 4344, 4345, 4346, 4347, 4348, 4349]\n",
      "Sending batch 436: [4350, 4351, 4352, 4353, 4354, 4355, 4356, 4357, 4358, 4359]\n",
      "Sending batch 437: [4360, 4361, 4362, 4363, 4364, 4365, 4366, 4367, 4368, 4369]\n",
      "Sending batch 438: [4370, 4371, 4372, 4373, 4374, 4375, 4376, 4377, 4378, 4379]\n",
      "Sending batch 439: [4380, 4381, 4382, 4383, 4384, 4385, 4386, 4387, 4388, 4389]\n",
      "Sending batch 440: [4390, 4391, 4392, 4393, 4394, 4395, 4396, 4397, 4398, 4399]\n",
      "Sending batch 441: [4400, 4401, 4402, 4403, 4404, 4405, 4406, 4407, 4408, 4409]\n",
      "Sending batch 442: [4410, 4411, 4412, 4413, 4414, 4415, 4416, 4417, 4418, 4419]\n",
      "Sending batch 443: [4420, 4421, 4422, 4423, 4424, 4425, 4426, 4427, 4428, 4429]\n",
      "Sending batch 444: [4430, 4431, 4432, 4433, 4434, 4435, 4436, 4437, 4438, 4439]\n",
      "Sending batch 445: [4440, 4441, 4442, 4443, 4444, 4445, 4446, 4447, 4448, 4449]\n",
      "Sending batch 446: [4450, 4451, 4452, 4453, 4454, 4455, 4456, 4457, 4458, 4459]\n",
      "Sending batch 447: [4460, 4461, 4462, 4463, 4464, 4465, 4466, 4467, 4468, 4469]\n",
      "Sending batch 448: [4470, 4471, 4472, 4473, 4474, 4475, 4476, 4477, 4478, 4479]\n",
      "Sending batch 449: [4480, 4481, 4482, 4483, 4484, 4485, 4486, 4487, 4488, 4489]\n",
      "Sending batch 450: [4490, 4491, 4492, 4493, 4494, 4495, 4496, 4497, 4498, 4499]\n",
      "Sending batch 451: [4500, 4501, 4502, 4503, 4504, 4505, 4506, 4507, 4508, 4509]\n",
      "Sending batch 452: [4510, 4511, 4512, 4513, 4514, 4515, 4516, 4517, 4518, 4519]\n",
      "Sending batch 453: [4520, 4521, 4522, 4523, 4524, 4525, 4526, 4527, 4528, 4529]\n",
      "Sending batch 454: [4530, 4531, 4532, 4533, 4534, 4535, 4536, 4537, 4538, 4539]\n",
      "Sending batch 455: [4540, 4541, 4542, 4543, 4544, 4545, 4546, 4547, 4548, 4549]\n",
      "Sending batch 456: [4550, 4551, 4552, 4553, 4554, 4555, 4556, 4557, 4558, 4559]\n",
      "Sending batch 457: [4560, 4561, 4562, 4563, 4564, 4565, 4566, 4567, 4568, 4569]\n",
      "Sending batch 458: [4570, 4571, 4572, 4573, 4574, 4575, 4576, 4577, 4578, 4579]\n",
      "Sending batch 459: [4580, 4581, 4582, 4583, 4584, 4585, 4586, 4587, 4588, 4589]\n",
      "Sending batch 460: [4590, 4591, 4592, 4593, 4594, 4595, 4596, 4597, 4598, 4599]\n",
      "Sending batch 461: [4600, 4601, 4602, 4603, 4604, 4605, 4606, 4607, 4608, 4609]\n",
      "Sending batch 462: [4610, 4611, 4612, 4613, 4614, 4615, 4616, 4617, 4618, 4619]\n",
      "Sending batch 463: [4620, 4621, 4622, 4623, 4624, 4625, 4626, 4627, 4628, 4629]\n",
      "Sending batch 464: [4630, 4631, 4632, 4633, 4634, 4635, 4636, 4637, 4638, 4639]\n",
      "Sending batch 465: [4640, 4641, 4642, 4643, 4644, 4645, 4646, 4647, 4648, 4649]\n",
      "Sending batch 466: [4650, 4651, 4652, 4653, 4654, 4655, 4656, 4657, 4658, 4659]\n",
      "Sending batch 467: [4660, 4661, 4662, 4663, 4664, 4665, 4666, 4667, 4668, 4669]\n",
      "Sending batch 468: [4670, 4671, 4672, 4673, 4674, 4675, 4676, 4677, 4678, 4679]\n",
      "Sending batch 469: [4680, 4681, 4682, 4683, 4684, 4685, 4686, 4687, 4688, 4689]\n",
      "Sending batch 470: [4690, 4691, 4692, 4693, 4694, 4695, 4696, 4697, 4698, 4699]\n",
      "Sending batch 471: [4700, 4701, 4702, 4703, 4704, 4705, 4706, 4707, 4708, 4709]\n",
      "Sending batch 472: [4710, 4711, 4712, 4713, 4714, 4715, 4716, 4717, 4718, 4719]\n",
      "Sending batch 473: [4720, 4721, 4722, 4723, 4724, 4725, 4726, 4727, 4728, 4729]\n",
      "Sending batch 474: [4730, 4731, 4732, 4733, 4734, 4735, 4736, 4737, 4738, 4739]\n",
      "Sending batch 475: [4740, 4741, 4742, 4743, 4744, 4745, 4746, 4747, 4748, 4749]\n",
      "Sending batch 476: [4750, 4751, 4752, 4753, 4754, 4755, 4756, 4757, 4758, 4759]\n",
      "Sending batch 477: [4760, 4761, 4762, 4763, 4764, 4765, 4766, 4767, 4768, 4769]\n",
      "Sending batch 478: [4770, 4771, 4772, 4773, 4774, 4775, 4776, 4777, 4778, 4779]\n",
      "Sending batch 479: [4780, 4781, 4782, 4783, 4784, 4785, 4786, 4787, 4788, 4789]\n",
      "Sending batch 480: [4790, 4791, 4792, 4793, 4794, 4795, 4796, 4797, 4798, 4799]\n",
      "Sending batch 481: [4800, 4801, 4802, 4803, 4804, 4805, 4806, 4807, 4808, 4809]\n",
      "Sending batch 482: [4810, 4811, 4812, 4813, 4814, 4815, 4816, 4817, 4818, 4819]\n",
      "Sending batch 483: [4820, 4821, 4822, 4823, 4824, 4825, 4826, 4827, 4828, 4829]\n",
      "Sending batch 484: [4830, 4831, 4832, 4833, 4834, 4835, 4836, 4837, 4838, 4839]\n",
      "Sending batch 485: [4840, 4841, 4842, 4843, 4844, 4845, 4846, 4847, 4848, 4849]\n",
      "Sending batch 486: [4850, 4851, 4852, 4853, 4854, 4855, 4856, 4857, 4858, 4859]\n",
      "Sending batch 487: [4860, 4861, 4862, 4863, 4864, 4865, 4866, 4867, 4868, 4869]\n",
      "Sending batch 488: [4870, 4871, 4872, 4873, 4874, 4875, 4876, 4877, 4878, 4879]\n",
      "Sending batch 489: [4880, 4881, 4882, 4883, 4884, 4885, 4886, 4887, 4888, 4889]\n",
      "Sending batch 490: [4890, 4891, 4892, 4893, 4894, 4895, 4896, 4897, 4898, 4899]\n",
      "Sending batch 491: [4900, 4901, 4902, 4903, 4904, 4905, 4906, 4907, 4908, 4909]\n",
      "Sending batch 492: [4910, 4911, 4912, 4913, 4914, 4915, 4916, 4917, 4918, 4919]\n",
      "Sending batch 493: [4920, 4921, 4922, 4923, 4924, 4925, 4926, 4927, 4928, 4929]\n",
      "Sending batch 494: [4930, 4931, 4932, 4933, 4934, 4935, 4936, 4937, 4938, 4939]\n",
      "Sending batch 495: [4940, 4941, 4942, 4943, 4944, 4945, 4946, 4947, 4948, 4949]\n",
      "Sending batch 496: [4950, 4951, 4952, 4953, 4954, 4955, 4956, 4957, 4958, 4959]\n",
      "Sending batch 497: [4960, 4961, 4962, 4963, 4964, 4965, 4966, 4967, 4968, 4969]\n",
      "Sending batch 498: [4970, 4971, 4972, 4973, 4974, 4975, 4976, 4977, 4978, 4979]\n",
      "Sending batch 499: [4980, 4981, 4982, 4983, 4984, 4985, 4986, 4987, 4988, 4989]\n",
      "Sending batch 500: [4990, 4991, 4992, 4993, 4994, 4995, 4996, 4997, 4998, 4999]\n",
      "Sending batch 501: [5000, 5001, 5002, 5003, 5004, 5005, 5006, 5007, 5008, 5009]\n",
      "Sending batch 502: [5010, 5011, 5012, 5013, 5014, 5015, 5016, 5017, 5018, 5019]\n",
      "Sending batch 503: [5020, 5021, 5022, 5023, 5024, 5025, 5026, 5027, 5028, 5029]\n",
      "Sending batch 504: [5030, 5031, 5032, 5033, 5034, 5035, 5036, 5037, 5038, 5039]\n",
      "Sending batch 505: [5040, 5041, 5042, 5043, 5044, 5045, 5046, 5047, 5048, 5049]\n",
      "Sending batch 506: [5050, 5051, 5052, 5053, 5054, 5055, 5056, 5057, 5058, 5059]\n",
      "Sending batch 507: [5060, 5061, 5062, 5063, 5064, 5065, 5066, 5067, 5068, 5069]\n",
      "Sending batch 508: [5070, 5071, 5072, 5073, 5074, 5075, 5076, 5077, 5078, 5079]\n",
      "Sending batch 509: [5080, 5081, 5082, 5083, 5084, 5085, 5086, 5087, 5088, 5089]\n",
      "Sending batch 510: [5090, 5091, 5092, 5093, 5094, 5095, 5096, 5097, 5098, 5099]\n",
      "Sending batch 511: [5100, 5101, 5102, 5103, 5104, 5105, 5106, 5107, 5108, 5109]\n",
      "Sending batch 512: [5110, 5111, 5112, 5113, 5114, 5115, 5116, 5117, 5118, 5119]\n",
      "Sending batch 513: [5120, 5121, 5122, 5123, 5124, 5125, 5126, 5127, 5128, 5129]\n",
      "Sending batch 514: [5130, 5131, 5132, 5133, 5134, 5135, 5136, 5137, 5138, 5139]\n",
      "Sending batch 515: [5140, 5141, 5142, 5143, 5144, 5145, 5146, 5147, 5148, 5149]\n",
      "Sending batch 516: [5150, 5151, 5152, 5153, 5154, 5155, 5156, 5157, 5158, 5159]\n",
      "Sending batch 517: [5160, 5161, 5162, 5163, 5164, 5165, 5166, 5167, 5168, 5169]\n",
      "Sending batch 518: [5170, 5171, 5172, 5173, 5174, 5175, 5176, 5177, 5178, 5179]\n",
      "Sending batch 519: [5180, 5181, 5182, 5183, 5184, 5185, 5186, 5187, 5188, 5189]\n",
      "Sending batch 520: [5190, 5191, 5192, 5193, 5194, 5195, 5196, 5197, 5198, 5199]\n",
      "Sending batch 521: [5200, 5201, 5202, 5203, 5204, 5205, 5206, 5207, 5208, 5209]\n",
      "Sending batch 522: [5210, 5211, 5212, 5213, 5214, 5215, 5216, 5217, 5218, 5219]\n",
      "Sending batch 523: [5220, 5221, 5222, 5223, 5224, 5225, 5226, 5227, 5228, 5229]\n",
      "Sending batch 524: [5230, 5231, 5232, 5233, 5234, 5235, 5236, 5237, 5238, 5239]\n",
      "Sending batch 525: [5240, 5241, 5242, 5243, 5244, 5245, 5246, 5247, 5248, 5249]\n",
      "Sending batch 526: [5250, 5251, 5252, 5253, 5254, 5255, 5256, 5257, 5258, 5259]\n",
      "Sending batch 527: [5260, 5261, 5262, 5263, 5264, 5265, 5266, 5267, 5268, 5269]\n",
      "Sending batch 528: [5270, 5271, 5272, 5273, 5274, 5275, 5276, 5277, 5278, 5279]\n",
      "Sending batch 529: [5280, 5281, 5282, 5283, 5284, 5285, 5286, 5287, 5288, 5289]\n",
      "Sending batch 530: [5290, 5291, 5292, 5293, 5294, 5295, 5296, 5297, 5298, 5299]\n",
      "Sending batch 531: [5300, 5301, 5302, 5303, 5304, 5305, 5306, 5307, 5308, 5309]\n",
      "Sending batch 532: [5310, 5311, 5312, 5313, 5314, 5315, 5316, 5317, 5318, 5319]\n",
      "Sending batch 533: [5320, 5321, 5322, 5323, 5324, 5325, 5326, 5327, 5328, 5329]\n",
      "Sending batch 534: [5330, 5331, 5332, 5333, 5334, 5335, 5336, 5337, 5338, 5339]\n",
      "Sending batch 535: [5340, 5341, 5342, 5343, 5344, 5345, 5346, 5347, 5348, 5349]\n",
      "Sending batch 536: [5350, 5351, 5352, 5353, 5354, 5355, 5356, 5357, 5358, 5359]\n",
      "Sending batch 537: [5360, 5361, 5362, 5363, 5364, 5365, 5366, 5367, 5368, 5369]\n",
      "Sending batch 538: [5370, 5371, 5372, 5373, 5374, 5375, 5376, 5377, 5378, 5379]\n",
      "Sending batch 539: [5380, 5381, 5382, 5383, 5384, 5385, 5386, 5387, 5388, 5389]\n",
      "Sending batch 540: [5390, 5391, 5392, 5393, 5394, 5395, 5396, 5397, 5398, 5399]\n",
      "Sending batch 541: [5400, 5401, 5402, 5403, 5404, 5405, 5406, 5407, 5408, 5409]\n",
      "Sending batch 542: [5410, 5411, 5412, 5413, 5414, 5415, 5416, 5417, 5418, 5419]\n",
      "Sending batch 543: [5420, 5421, 5422, 5423, 5424, 5425, 5426, 5427, 5428, 5429]\n",
      "Sending batch 544: [5430, 5431, 5432, 5433, 5434, 5435, 5436, 5437, 5438, 5439]\n",
      "Sending batch 545: [5440, 5441, 5442, 5443, 5444, 5445, 5446, 5447, 5448, 5449]\n",
      "Sending batch 546: [5450, 5451, 5452, 5453, 5454, 5455, 5456, 5457, 5458, 5459]\n",
      "Sending batch 547: [5460, 5461, 5462, 5463, 5464, 5465, 5466, 5467, 5468, 5469]\n",
      "Sending batch 548: [5470, 5471, 5472, 5473, 5474, 5475, 5476, 5477, 5478, 5479]\n",
      "Sending batch 549: [5480, 5481, 5482, 5483, 5484, 5485, 5486, 5487, 5488, 5489]\n",
      "Sending batch 550: [5490, 5491, 5492, 5493, 5494, 5495, 5496, 5497, 5498, 5499]\n",
      "Sending batch 551: [5500, 5501, 5502, 5503, 5504, 5505, 5506, 5507, 5508, 5509]\n",
      "Sending batch 552: [5510, 5511, 5512, 5513, 5514, 5515, 5516, 5517, 5518, 5519]\n",
      "Sending batch 553: [5520, 5521, 5522, 5523, 5524, 5525, 5526, 5527, 5528, 5529]\n",
      "Sending batch 554: [5530, 5531, 5532, 5533, 5534, 5535, 5536, 5537, 5538, 5539]\n",
      "Sending batch 555: [5540, 5541, 5542, 5543, 5544, 5545, 5546, 5547, 5548, 5549]\n",
      "Sending batch 556: [5550, 5551, 5552, 5553, 5554, 5555, 5556, 5557, 5558, 5559]\n",
      "Sending batch 557: [5560, 5561, 5562, 5563, 5564, 5565, 5566, 5567, 5568, 5569]\n",
      "Sending batch 558: [5570, 5571, 5572, 5573, 5574, 5575, 5576, 5577, 5578, 5579]\n",
      "Sending batch 559: [5580, 5581, 5582, 5583, 5584, 5585, 5586, 5587, 5588, 5589]\n",
      "Sending batch 560: [5590, 5591, 5592, 5593, 5594, 5595, 5596, 5597, 5598, 5599]\n",
      "Sending batch 561: [5600, 5601, 5602, 5603, 5604, 5605, 5606, 5607, 5608, 5609]\n",
      "Sending batch 562: [5610, 5611, 5612, 5613, 5614, 5615, 5616, 5617, 5618, 5619]\n",
      "Sending batch 563: [5620, 5621, 5622, 5623, 5624, 5625, 5626, 5627, 5628, 5629]\n",
      "Sending batch 564: [5630, 5631, 5632, 5633, 5634, 5635, 5636, 5637, 5638, 5639]\n",
      "Sending batch 565: [5640, 5641, 5642, 5643, 5644, 5645, 5646, 5647, 5648, 5649]\n",
      "Sending batch 566: [5650, 5651, 5652, 5653, 5654, 5655, 5656, 5657, 5658, 5659]\n",
      "Sending batch 567: [5660, 5661, 5662, 5663, 5664, 5665, 5666, 5667, 5668, 5669]\n",
      "Sending batch 568: [5670, 5671, 5672, 5673, 5674, 5675, 5676, 5677, 5678, 5679]\n",
      "Sending batch 569: [5680, 5681, 5682, 5683, 5684, 5685, 5686, 5687, 5688, 5689]\n",
      "Sending batch 570: [5690, 5691, 5692, 5693, 5694, 5695, 5696, 5697, 5698, 5699]\n",
      "Sending batch 571: [5700, 5701, 5702, 5703, 5704, 5705, 5706, 5707, 5708, 5709]\n",
      "Sending batch 572: [5710, 5711, 5712, 5713, 5714, 5715, 5716, 5717, 5718, 5719]\n",
      "Sending batch 573: [5720, 5721, 5722, 5723, 5724, 5725, 5726, 5727, 5728, 5729]\n",
      "Sending batch 574: [5730, 5731, 5732, 5733, 5734, 5735, 5736, 5737, 5738, 5739]\n",
      "Sending batch 575: [5740, 5741, 5742, 5743, 5744, 5745, 5746, 5747, 5748, 5749]\n",
      "Sending batch 576: [5750, 5751, 5752, 5753, 5754, 5755, 5756, 5757, 5758, 5759]\n",
      "Sending batch 577: [5760, 5761, 5762, 5763, 5764, 5765, 5766, 5767, 5768, 5769]\n",
      "Sending batch 578: [5770, 5771, 5772, 5773, 5774, 5775, 5776, 5777, 5778, 5779]\n",
      "Sending batch 579: [5780, 5781, 5782, 5783, 5784, 5785, 5786, 5787, 5788, 5789]\n",
      "Sending batch 580: [5790, 5791, 5792, 5793, 5794, 5795, 5796, 5797, 5798, 5799]\n",
      "Sending batch 581: [5800, 5801, 5802, 5803, 5804, 5805, 5806, 5807, 5808, 5809]\n",
      "Sending batch 582: [5810, 5811, 5812, 5813, 5814, 5815, 5816, 5817, 5818, 5819]\n",
      "Sending batch 583: [5820, 5821, 5822, 5823, 5824, 5825, 5826, 5827, 5828, 5829]\n",
      "Sending batch 584: [5830, 5831, 5832, 5833, 5834, 5835, 5836, 5837, 5838, 5839]\n",
      "Sending batch 585: [5840, 5841, 5842, 5843, 5844, 5845, 5846, 5847, 5848, 5849]\n",
      "Sending batch 586: [5850, 5851, 5852, 5853, 5854, 5855, 5856, 5857, 5858, 5859]\n",
      "Sending batch 587: [5860, 5861, 5862, 5863, 5864, 5865, 5866, 5867, 5868, 5869]\n",
      "Sending batch 588: [5870, 5871, 5872, 5873, 5874, 5875, 5876, 5877, 5878, 5879]\n",
      "Sending batch 589: [5880, 5881, 5882, 5883, 5884, 5885, 5886, 5887, 5888, 5889]\n",
      "Sending batch 590: [5890, 5891, 5892, 5893, 5894, 5895, 5896, 5897, 5898, 5899]\n",
      "Sending batch 591: [5900, 5901, 5902, 5903, 5904, 5905, 5906, 5907, 5908, 5909]\n",
      "Sending batch 592: [5910, 5911, 5912, 5913, 5914, 5915, 5916, 5917, 5918, 5919]\n",
      "Sending batch 593: [5920, 5921, 5922, 5923, 5924, 5925, 5926, 5927, 5928, 5929]\n",
      "Sending batch 594: [5930, 5931, 5932, 5933, 5934, 5935, 5936, 5937, 5938, 5939]\n",
      "Sending batch 595: [5940, 5941, 5942, 5943, 5944, 5945, 5946, 5947, 5948, 5949]\n",
      "Sending batch 596: [5950, 5951, 5952, 5953, 5954, 5955, 5956, 5957, 5958, 5959]\n",
      "Sending batch 597: [5960, 5961, 5962, 5963, 5964, 5965, 5966, 5967, 5968, 5969]\n",
      "Sending batch 598: [5970, 5971, 5972, 5973, 5974, 5975, 5976, 5977, 5978, 5979]\n",
      "Sending batch 599: [5980, 5981, 5982, 5983, 5984, 5985, 5986, 5987, 5988, 5989]\n",
      "Sending batch 600: [5990, 5991, 5992, 5993, 5994, 5995, 5996, 5997, 5998, 5999]\n",
      "Sending batch 601: [6000, 6001, 6002, 6003, 6004, 6005, 6006, 6007, 6008, 6009]\n",
      "Sending batch 602: [6010, 6011, 6012, 6013, 6014, 6015, 6016, 6017, 6018, 6019]\n",
      "Sending batch 603: [6020, 6021, 6022, 6023, 6024, 6025, 6026, 6027, 6028, 6029]\n",
      "Sending batch 604: [6030, 6031, 6032, 6033, 6034, 6035, 6036, 6037, 6038, 6039]\n",
      "Sending batch 605: [6040, 6041, 6042, 6043, 6044, 6045, 6046, 6047, 6048, 6049]\n",
      "Sending batch 606: [6050, 6051, 6052, 6053, 6054, 6055, 6056, 6057, 6058, 6059]\n",
      "Sending batch 607: [6060, 6061, 6062, 6063, 6064, 6065, 6066, 6067, 6068, 6069]\n",
      "Sending batch 608: [6070, 6071, 6072, 6073, 6074, 6075, 6076, 6077, 6078, 6079]\n",
      "Sending batch 609: [6080, 6081, 6082, 6083, 6084, 6085, 6086, 6087, 6088, 6089]\n",
      "Sending batch 610: [6090, 6091, 6092, 6093, 6094, 6095, 6096, 6097, 6098, 6099]\n",
      "Sending batch 611: [6100, 6101, 6102, 6103, 6104, 6105, 6106, 6107, 6108, 6109]\n",
      "Sending batch 612: [6110, 6111, 6112, 6113, 6114, 6115, 6116, 6117, 6118, 6119]\n",
      "Sending batch 613: [6120, 6121, 6122, 6123, 6124, 6125, 6126, 6127, 6128, 6129]\n",
      "Sending batch 614: [6130, 6131, 6132, 6133, 6134, 6135, 6136, 6137, 6138, 6139]\n",
      "Sending batch 615: [6140, 6141, 6142, 6143, 6144, 6145, 6146, 6147, 6148, 6149]\n",
      "Sending batch 616: [6150, 6151, 6152, 6153, 6154, 6155, 6156, 6157, 6158, 6159]\n",
      "Sending batch 617: [6160, 6161, 6162, 6163, 6164, 6165, 6166, 6167, 6168, 6169]\n",
      "Sending batch 618: [6170, 6171, 6172, 6173, 6174, 6175, 6176, 6177, 6178, 6179]\n",
      "Sending batch 619: [6180, 6181, 6182, 6183, 6184, 6185, 6186, 6187, 6188, 6189]\n",
      "Sending batch 620: [6190, 6191, 6192, 6193, 6194, 6195, 6196, 6197, 6198, 6199]\n",
      "Sending batch 621: [6200, 6201, 6202, 6203, 6204, 6205, 6206, 6207, 6208, 6209]\n",
      "Sending batch 622: [6210, 6211, 6212, 6213, 6214, 6215, 6216, 6217, 6218, 6219]\n",
      "Sending batch 623: [6220, 6221, 6222, 6223, 6224, 6225, 6226, 6227, 6228, 6229]\n",
      "Sending batch 624: [6230, 6231, 6232, 6233, 6234, 6235, 6236, 6237, 6238, 6239]\n",
      "Sending batch 625: [6240, 6241, 6242, 6243, 6244, 6245, 6246, 6247, 6248, 6249]\n",
      "Sending batch 626: [6250, 6251, 6252, 6253, 6254, 6255, 6256, 6257, 6258, 6259]\n",
      "Sending batch 627: [6260, 6261, 6262, 6263, 6264, 6265, 6266, 6267, 6268, 6269]\n",
      "Sending batch 628: [6270, 6271, 6272, 6273, 6274, 6275, 6276, 6277, 6278, 6279]\n",
      "Sending batch 629: [6280, 6281, 6282, 6283, 6284, 6285, 6286, 6287, 6288, 6289]\n",
      "Sending batch 630: [6290, 6291, 6292, 6293, 6294, 6295, 6296, 6297, 6298, 6299]\n",
      "Sending batch 631: [6300, 6301, 6302, 6303, 6304, 6305, 6306, 6307, 6308, 6309]\n",
      "Sending batch 632: [6310, 6311, 6312, 6313, 6314, 6315, 6316, 6317, 6318, 6319]\n",
      "Sending batch 633: [6320, 6321, 6322, 6323, 6324, 6325, 6326, 6327, 6328, 6329]\n",
      "Sending batch 634: [6330, 6331, 6332, 6333, 6334, 6335, 6336, 6337, 6338, 6339]\n",
      "Sending batch 635: [6340, 6341, 6342, 6343, 6344, 6345, 6346, 6347, 6348, 6349]\n",
      "Sending batch 636: [6350, 6351, 6352, 6353, 6354, 6355, 6356, 6357, 6358, 6359]\n",
      "Sending batch 637: [6360, 6361, 6362, 6363, 6364, 6365, 6366, 6367, 6368, 6369]\n",
      "Sending batch 638: [6370, 6371, 6372, 6373, 6374, 6375, 6376, 6377, 6378, 6379]\n",
      "Sending batch 639: [6380, 6381, 6382, 6383, 6384, 6385, 6386, 6387, 6388, 6389]\n",
      "Sending batch 640: [6390, 6391, 6392, 6393, 6394, 6395, 6396, 6397, 6398, 6399]\n",
      "Sending batch 641: [6400, 6401, 6402, 6403, 6404, 6405, 6406, 6407, 6408, 6409]\n",
      "Sending batch 642: [6410, 6411, 6412, 6413, 6414, 6415, 6416, 6417, 6418, 6419]\n",
      "Sending batch 643: [6420, 6421, 6422, 6423, 6424, 6425, 6426, 6427, 6428, 6429]\n",
      "Sending batch 644: [6430, 6431, 6432, 6433, 6434, 6435, 6436, 6437, 6438, 6439]\n",
      "Sending batch 645: [6440, 6441, 6442, 6443, 6444, 6445, 6446, 6447, 6448, 6449]\n",
      "Sending batch 646: [6450, 6451, 6452, 6453, 6454, 6455, 6456, 6457, 6458, 6459]\n",
      "Sending batch 647: [6460, 6461, 6462, 6463, 6464, 6465, 6466, 6467, 6468, 6469]\n",
      "Sending batch 648: [6470, 6471, 6472, 6473, 6474, 6475, 6476, 6477, 6478, 6479]\n",
      "Sending batch 649: [6480, 6481, 6482, 6483, 6484, 6485, 6486, 6487, 6488, 6489]\n",
      "Sending batch 650: [6490, 6491, 6492, 6493, 6494, 6495, 6496, 6497, 6498, 6499]\n",
      "Sending batch 651: [6500, 6501, 6502, 6503, 6504, 6505, 6506, 6507, 6508, 6509]\n",
      "Sending batch 652: [6510, 6511, 6512, 6513, 6514, 6515, 6516, 6517, 6518, 6519]\n",
      "Sending batch 653: [6520, 6521, 6522, 6523, 6524, 6525, 6526, 6527, 6528, 6529]\n",
      "Sending batch 654: [6530, 6531, 6532, 6533, 6534, 6535, 6536, 6537, 6538, 6539]\n",
      "Sending batch 655: [6540, 6541, 6542, 6543, 6544, 6545, 6546, 6547, 6548, 6549]\n",
      "Sending batch 656: [6550, 6551, 6552, 6553, 6554, 6555, 6556, 6557, 6558, 6559]\n",
      "Sending batch 657: [6560, 6561, 6562, 6563, 6564, 6565, 6566, 6567, 6568, 6569]\n",
      "Sending batch 658: [6570, 6571, 6572, 6573, 6574, 6575, 6576, 6577, 6578, 6579]\n",
      "Sending batch 659: [6580, 6581, 6582, 6583, 6584, 6585, 6586, 6587, 6588, 6589]\n",
      "Sending batch 660: [6590, 6591, 6592, 6593, 6594, 6595, 6596, 6597, 6598, 6599]\n",
      "Sending batch 661: [6600, 6601, 6602, 6603, 6604, 6605, 6606, 6607, 6608, 6609]\n",
      "Sending batch 662: [6610, 6611, 6612, 6613, 6614, 6615, 6616, 6617, 6618, 6619]\n",
      "Sending batch 663: [6620, 6621, 6622, 6623, 6624, 6625, 6626, 6627, 6628, 6629]\n",
      "Sending batch 664: [6630, 6631, 6632, 6633, 6634, 6635, 6636, 6637, 6638, 6639]\n",
      "Sending batch 665: [6640, 6641, 6642, 6643, 6644, 6645, 6646, 6647, 6648, 6649]\n",
      "Sending batch 666: [6650, 6651, 6652, 6653, 6654, 6655, 6656, 6657, 6658, 6659]\n",
      "Sending batch 667: [6660, 6661, 6662, 6663, 6664, 6665, 6666, 6667, 6668, 6669]\n",
      "Sending batch 668: [6670, 6671, 6672, 6673, 6674, 6675, 6676, 6677, 6678, 6679]\n",
      "Sending batch 669: [6680, 6681, 6682, 6683, 6684, 6685, 6686, 6687, 6688, 6689]\n",
      "Sending batch 670: [6690, 6691, 6692, 6693, 6694, 6695, 6696, 6697, 6698, 6699]\n",
      "Sending batch 671: [6700, 6701, 6702, 6703, 6704, 6705, 6706, 6707, 6708, 6709]\n",
      "Sending batch 672: [6710, 6711, 6712, 6713, 6714, 6715, 6716, 6717, 6718, 6719]\n",
      "Sending batch 673: [6720, 6721, 6722, 6723, 6724, 6725, 6726, 6727, 6728, 6729]\n",
      "Sending batch 674: [6730, 6731, 6732, 6733, 6734, 6735, 6736, 6737, 6738, 6739]\n",
      "Sending batch 675: [6740, 6741, 6742, 6743, 6744, 6745, 6746, 6747, 6748, 6749]\n",
      "Sending batch 676: [6750, 6751, 6752, 6753, 6754, 6755, 6756, 6757, 6758, 6759]\n",
      "Sending batch 677: [6760, 6761, 6762, 6763, 6764, 6765, 6766, 6767, 6768, 6769]\n",
      "Sending batch 678: [6770, 6771, 6772, 6773, 6774, 6775, 6776, 6777, 6778, 6779]\n",
      "Sending batch 679: [6780, 6781, 6782, 6783, 6784, 6785, 6786, 6787, 6788, 6789]\n",
      "Sending batch 680: [6790, 6791, 6792, 6793, 6794, 6795, 6796, 6797, 6798, 6799]\n",
      "Sending batch 681: [6800, 6801, 6802, 6803, 6804, 6805, 6806, 6807, 6808, 6809]\n",
      "Sending batch 682: [6810, 6811, 6812, 6813, 6814, 6815, 6816, 6817, 6818, 6819]\n",
      "Sending batch 683: [6820, 6821, 6822, 6823, 6824, 6825, 6826, 6827, 6828, 6829]\n",
      "Sending batch 684: [6830, 6831, 6832, 6833, 6834, 6835, 6836, 6837, 6838, 6839]\n",
      "Sending batch 685: [6840, 6841, 6842, 6843, 6844, 6845, 6846, 6847, 6848, 6849]\n",
      "Sending batch 686: [6850, 6851, 6852, 6853, 6854, 6855, 6856, 6857, 6858, 6859]\n",
      "Sending batch 687: [6860, 6861, 6862, 6863, 6864, 6865, 6866, 6867, 6868, 6869]\n",
      "Sending batch 688: [6870, 6871, 6872, 6873, 6874, 6875, 6876, 6877, 6878, 6879]\n",
      "Sending batch 689: [6880, 6881, 6882, 6883, 6884, 6885, 6886, 6887, 6888, 6889]\n",
      "Sending batch 690: [6890, 6891, 6892, 6893, 6894, 6895, 6896, 6897, 6898, 6899]\n",
      "Sending batch 691: [6900, 6901, 6902, 6903, 6904, 6905, 6906, 6907, 6908, 6909]\n",
      "Sending batch 692: [6910, 6911, 6912, 6913, 6914, 6915, 6916, 6917, 6918, 6919]\n",
      "Sending batch 693: [6920, 6921, 6922, 6923, 6924, 6925, 6926, 6927, 6928, 6929]\n",
      "Sending batch 694: [6930, 6931, 6932, 6933, 6934, 6935, 6936, 6937, 6938, 6939]\n",
      "Sending batch 695: [6940, 6941, 6942, 6943, 6944, 6945, 6946, 6947, 6948, 6949]\n",
      "Sending batch 696: [6950, 6951, 6952, 6953, 6954, 6955, 6956, 6957, 6958, 6959]\n",
      "Sending batch 697: [6960, 6961, 6962, 6963, 6964, 6965, 6966, 6967, 6968, 6969]\n",
      "Sending batch 698: [6970, 6971, 6972, 6973, 6974, 6975, 6976, 6977, 6978, 6979]\n",
      "Sending batch 699: [6980, 6981, 6982, 6983, 6984, 6985, 6986, 6987, 6988, 6989]\n",
      "Sending batch 700: [6990, 6991, 6992, 6993, 6994, 6995, 6996, 6997, 6998, 6999]\n",
      "Sending batch 701: [7000, 7001, 7002, 7003, 7004, 7005, 7006, 7007, 7008, 7009]\n",
      "Sending batch 702: [7010, 7011, 7012, 7013, 7014, 7015, 7016, 7017, 7018, 7019]\n",
      "Sending batch 703: [7020, 7021, 7022, 7023, 7024, 7025, 7026, 7027, 7028, 7029]\n",
      "Sending batch 704: [7030, 7031, 7032, 7033, 7034, 7035, 7036, 7037, 7038, 7039]\n",
      "Sending batch 705: [7040, 7041, 7042, 7043, 7044, 7045, 7046, 7047, 7048, 7049]\n",
      "Sending batch 706: [7050, 7051, 7052, 7053, 7054, 7055, 7056, 7057, 7058, 7059]\n",
      "Sending batch 707: [7060, 7061, 7062, 7063, 7064, 7065, 7066, 7067, 7068, 7069]\n",
      "Sending batch 708: [7070, 7071, 7072, 7073, 7074, 7075, 7076, 7077, 7078, 7079]\n",
      "Sending batch 709: [7080, 7081, 7082, 7083, 7084, 7085, 7086, 7087, 7088, 7089]\n",
      "Sending batch 710: [7090, 7091, 7092, 7093, 7094, 7095, 7096, 7097, 7098, 7099]\n",
      "Sending batch 711: [7100, 7101, 7102, 7103, 7104, 7105, 7106, 7107, 7108, 7109]\n",
      "Sending batch 712: [7110, 7111, 7112, 7113, 7114, 7115, 7116, 7117, 7118, 7119]\n",
      "Sending batch 713: [7120, 7121, 7122, 7123, 7124, 7125, 7126, 7127, 7128, 7129]\n",
      "Sending batch 714: [7130, 7131, 7132, 7133, 7134, 7135, 7136, 7137, 7138, 7139]\n",
      "Sending batch 715: [7140, 7141, 7142, 7143, 7144, 7145, 7146, 7147, 7148, 7149]\n",
      "Sending batch 716: [7150, 7151, 7152, 7153, 7154, 7155, 7156, 7157, 7158, 7159]\n",
      "Sending batch 717: [7160, 7161, 7162, 7163, 7164, 7165, 7166, 7167, 7168, 7169]\n",
      "Sending batch 718: [7170, 7171, 7172, 7173, 7174, 7175, 7176, 7177, 7178, 7179]\n",
      "Sending batch 719: [7180, 7181, 7182, 7183, 7184, 7185, 7186, 7187, 7188, 7189]\n",
      "Sending batch 720: [7190, 7191, 7192, 7193, 7194, 7195, 7196, 7197, 7198, 7199]\n",
      "Sending batch 721: [7200, 7201, 7202, 7203, 7204, 7205, 7206, 7207, 7208, 7209]\n",
      "Sending batch 722: [7210, 7211, 7212, 7213, 7214, 7215, 7216, 7217, 7218, 7219]\n",
      "Sending batch 723: [7220, 7221, 7222, 7223, 7224, 7225, 7226, 7227, 7228, 7229]\n",
      "Sending batch 724: [7230, 7231, 7232, 7233, 7234, 7235, 7236, 7237, 7238, 7239]\n",
      "Sending batch 725: [7240, 7241, 7242, 7243, 7244, 7245, 7246, 7247, 7248, 7249]\n",
      "Sending batch 726: [7250, 7251, 7252, 7253, 7254, 7255, 7256, 7257, 7258, 7259]\n",
      "Sending batch 727: [7260, 7261, 7262, 7263, 7264, 7265, 7266, 7267, 7268, 7269]\n",
      "Sending batch 728: [7270, 7271, 7272, 7273, 7274, 7275, 7276, 7277, 7278, 7279]\n",
      "Sending batch 729: [7280, 7281, 7282, 7283, 7284, 7285, 7286, 7287, 7288, 7289]\n",
      "Sending batch 730: [7290, 7291, 7292, 7293, 7294, 7295, 7296, 7297, 7298, 7299]\n",
      "Sending batch 731: [7300, 7301, 7302, 7303, 7304, 7305, 7306, 7307, 7308, 7309]\n",
      "Sending batch 732: [7310, 7311, 7312, 7313, 7314, 7315, 7316, 7317, 7318, 7319]\n",
      "Sending batch 733: [7320, 7321, 7322, 7323, 7324, 7325, 7326, 7327, 7328, 7329]\n",
      "Sending batch 734: [7330, 7331, 7332, 7333, 7334, 7335, 7336, 7337, 7338, 7339]\n",
      "Sending batch 735: [7340, 7341, 7342, 7343, 7344, 7345, 7346, 7347, 7348, 7349]\n",
      "Sending batch 736: [7350, 7351, 7352, 7353, 7354, 7355, 7356, 7357, 7358, 7359]\n",
      "Sending batch 737: [7360, 7361, 7362, 7363, 7364, 7365, 7366, 7367, 7368, 7369]\n",
      "Sending batch 738: [7370, 7371, 7372, 7373, 7374, 7375, 7376, 7377, 7378, 7379]\n",
      "Sending batch 739: [7380, 7381, 7382, 7383, 7384, 7385, 7386, 7387, 7388, 7389]\n",
      "Sending batch 740: [7390, 7391, 7392, 7393, 7394, 7395, 7396, 7397, 7398, 7399]\n",
      "Sending batch 741: [7400, 7401, 7402, 7403, 7404, 7405, 7406, 7407, 7408, 7409]\n",
      "Sending batch 742: [7410, 7411, 7412, 7413, 7414, 7415, 7416, 7417, 7418, 7419]\n",
      "Sending batch 743: [7420, 7421, 7422, 7423, 7424, 7425, 7426, 7427, 7428, 7429]\n",
      "Sending batch 744: [7430, 7431, 7432, 7433, 7434, 7435, 7436, 7437, 7438, 7439]\n",
      "Sending batch 745: [7440, 7441, 7442, 7443, 7444, 7445, 7446, 7447, 7448, 7449]\n",
      "Sending batch 746: [7450, 7451, 7452, 7453, 7454, 7455, 7456, 7457, 7458, 7459]\n",
      "Sending batch 747: [7460, 7461, 7462, 7463, 7464, 7465, 7466, 7467, 7468, 7469]\n",
      "Sending batch 748: [7470, 7471, 7472, 7473, 7474, 7475, 7476, 7477, 7478, 7479]\n",
      "Sending batch 749: [7480, 7481, 7482, 7483, 7484, 7485, 7486, 7487, 7488, 7489]\n",
      "Sending batch 750: [7490, 7491, 7492, 7493, 7494, 7495, 7496, 7497, 7498, 7499]\n",
      "Sending batch 751: [7500, 7501, 7502, 7503, 7504, 7505, 7506, 7507, 7508, 7509]\n",
      "Sending batch 752: [7510, 7511, 7512, 7513, 7514, 7515, 7516, 7517, 7518, 7519]\n",
      "Sending batch 753: [7520, 7521, 7522, 7523, 7524, 7525, 7526, 7527, 7528, 7529]\n",
      "Sending batch 754: [7530, 7531, 7532, 7533, 7534, 7535, 7536, 7537, 7538, 7539]\n",
      "Sending batch 755: [7540, 7541, 7542, 7543, 7544, 7545, 7546, 7547, 7548, 7549]\n",
      "Sending batch 756: [7550, 7551, 7552, 7553, 7554, 7555, 7556, 7557, 7558, 7559]\n",
      "Sending batch 757: [7560, 7561, 7562, 7563, 7564, 7565, 7566, 7567, 7568, 7569]\n",
      "Sending batch 758: [7570, 7571, 7572, 7573, 7574, 7575, 7576, 7577, 7578, 7579]\n",
      "Sending batch 759: [7580, 7581, 7582, 7583, 7584, 7585, 7586, 7587, 7588, 7589]\n",
      "Sending batch 760: [7590, 7591, 7592, 7593, 7594, 7595, 7596, 7597, 7598, 7599]\n",
      "Sending batch 761: [7600, 7601, 7602, 7603, 7604, 7605, 7606, 7607, 7608, 7609]\n",
      "Sending batch 762: [7610, 7611, 7612, 7613, 7614, 7615, 7616, 7617, 7618, 7619]\n",
      "Sending batch 763: [7620, 7621, 7622, 7623, 7624, 7625, 7626, 7627, 7628, 7629]\n",
      "Sending batch 764: [7630, 7631, 7632, 7633, 7634, 7635, 7636, 7637, 7638, 7639]\n",
      "Sending batch 765: [7640, 7641, 7642, 7643, 7644, 7645, 7646, 7647, 7648, 7649]\n",
      "Sending batch 766: [7650, 7651, 7652, 7653, 7654, 7655, 7656, 7657, 7658, 7659]\n",
      "Sending batch 767: [7660, 7661, 7662, 7663, 7664, 7665, 7666, 7667, 7668, 7669]\n",
      "Sending batch 768: [7670, 7671, 7672, 7673, 7674, 7675, 7676, 7677, 7678, 7679]\n",
      "Sending batch 769: [7680, 7681, 7682, 7683, 7684, 7685, 7686, 7687, 7688, 7689]\n",
      "Sending batch 770: [7690, 7691, 7692, 7693, 7694, 7695, 7696, 7697, 7698, 7699]\n",
      "Sending batch 771: [7700, 7701, 7702, 7703, 7704, 7705, 7706, 7707, 7708, 7709]\n",
      "Sending batch 772: [7710, 7711, 7712, 7713, 7714, 7715, 7716, 7717, 7718, 7719]\n",
      "Sending batch 773: [7720, 7721, 7722, 7723, 7724, 7725, 7726, 7727, 7728, 7729]\n",
      "Sending batch 774: [7730, 7731, 7732, 7733, 7734, 7735, 7736, 7737, 7738, 7739]\n",
      "Sending batch 775: [7740, 7741, 7742, 7743, 7744, 7745, 7746, 7747, 7748, 7749]\n",
      "Sending batch 776: [7750, 7751, 7752, 7753, 7754, 7755, 7756, 7757, 7758, 7759]\n",
      "Sending batch 777: [7760, 7761, 7762, 7763, 7764, 7765, 7766, 7767, 7768, 7769]\n",
      "Sending batch 778: [7770, 7771, 7772, 7773, 7774, 7775, 7776, 7777, 7778, 7779]\n",
      "Sending batch 779: [7780, 7781, 7782, 7783, 7784, 7785, 7786, 7787, 7788, 7789]\n",
      "Sending batch 780: [7790, 7791, 7792, 7793, 7794, 7795, 7796, 7797, 7798, 7799]\n",
      "Sending batch 781: [7800, 7801, 7802, 7803, 7804, 7805, 7806, 7807, 7808, 7809]\n",
      "Sending batch 782: [7810, 7811, 7812, 7813, 7814, 7815, 7816, 7817, 7818, 7819]\n",
      "Sending batch 783: [7820, 7821, 7822, 7823, 7824, 7825, 7826, 7827, 7828, 7829]\n",
      "Sending batch 784: [7830, 7831, 7832, 7833, 7834, 7835, 7836, 7837, 7838, 7839]\n",
      "Sending batch 785: [7840, 7841, 7842, 7843, 7844, 7845, 7846, 7847, 7848, 7849]\n",
      "Sending batch 786: [7850, 7851, 7852, 7853, 7854, 7855, 7856, 7857, 7858, 7859]\n",
      "Sending batch 787: [7860, 7861, 7862, 7863, 7864, 7865, 7866, 7867, 7868, 7869]\n",
      "Sending batch 788: [7870, 7871, 7872, 7873, 7874, 7875, 7876, 7877, 7878, 7879]\n",
      "Sending batch 789: [7880, 7881, 7882, 7883, 7884, 7885, 7886, 7887, 7888, 7889]\n",
      "Sending batch 790: [7890, 7891, 7892, 7893, 7894, 7895, 7896, 7897, 7898, 7899]\n",
      "Sending batch 791: [7900, 7901, 7902, 7903, 7904, 7905, 7906, 7907, 7908, 7909]\n",
      "Sending batch 792: [7910, 7911, 7912, 7913, 7914, 7915, 7916, 7917, 7918, 7919]\n",
      "Sending batch 793: [7920, 7921, 7922, 7923, 7924, 7925, 7926, 7927, 7928, 7929]\n",
      "Sending batch 794: [7930, 7931, 7932, 7933, 7934, 7935, 7936, 7937, 7938, 7939]\n",
      "Sending batch 795: [7940, 7941, 7942, 7943, 7944, 7945, 7946, 7947, 7948, 7949]\n",
      "Sending batch 796: [7950, 7951, 7952, 7953, 7954, 7955, 7956, 7957, 7958, 7959]\n",
      "Sending batch 797: [7960, 7961, 7962, 7963, 7964, 7965, 7966, 7967, 7968, 7969]\n",
      "Sending batch 798: [7970, 7971, 7972, 7973, 7974, 7975, 7976, 7977, 7978, 7979]\n",
      "Sending batch 799: [7980, 7981, 7982, 7983, 7984, 7985, 7986, 7987, 7988, 7989]\n",
      "Sending batch 800: [7990, 7991, 7992, 7993, 7994, 7995, 7996, 7997, 7998, 7999]\n",
      "Sending batch 801: [8000, 8001, 8002, 8003, 8004, 8005, 8006, 8007, 8008, 8009]\n",
      "Sending batch 802: [8010, 8011, 8012, 8013, 8014, 8015, 8016, 8017, 8018, 8019]\n",
      "Sending batch 803: [8020, 8021, 8022, 8023, 8024, 8025, 8026, 8027, 8028, 8029]\n",
      "Sending batch 804: [8030, 8031, 8032, 8033, 8034, 8035, 8036, 8037, 8038, 8039]\n",
      "Sending batch 805: [8040, 8041, 8042, 8043, 8044, 8045, 8046, 8047, 8048, 8049]\n",
      "Sending batch 806: [8050, 8051, 8052, 8053, 8054, 8055, 8056, 8057, 8058, 8059]\n",
      "Sending batch 807: [8060, 8061, 8062, 8063, 8064, 8065, 8066, 8067, 8068, 8069]\n",
      "Sending batch 808: [8070, 8071, 8072, 8073, 8074, 8075, 8076, 8077, 8078, 8079]\n",
      "Sending batch 809: [8080, 8081, 8082, 8083, 8084, 8085, 8086, 8087, 8088, 8089]\n",
      "Sending batch 810: [8090, 8091, 8092, 8093, 8094, 8095, 8096, 8097, 8098, 8099]\n",
      "Sending batch 811: [8100, 8101, 8102, 8103, 8104, 8105, 8106, 8107, 8108, 8109]\n",
      "Sending batch 812: [8110, 8111, 8112, 8113, 8114, 8115, 8116, 8117, 8118, 8119]\n",
      "Sending batch 813: [8120, 8121, 8122, 8123, 8124, 8125, 8126, 8127, 8128, 8129]\n",
      "Sending batch 814: [8130, 8131, 8132, 8133, 8134, 8135, 8136, 8137, 8138, 8139]\n",
      "Sending batch 815: [8140, 8141, 8142, 8143, 8144, 8145, 8146, 8147, 8148, 8149]\n",
      "Sending batch 816: [8150, 8151, 8152, 8153, 8154, 8155, 8156, 8157, 8158, 8159]\n",
      "Sending batch 817: [8160, 8161, 8162, 8163, 8164, 8165, 8166, 8167, 8168, 8169]\n",
      "Sending batch 818: [8170, 8171, 8172, 8173, 8174, 8175, 8176, 8177, 8178, 8179]\n",
      "Sending batch 819: [8180, 8181, 8182, 8183, 8184, 8185, 8186, 8187, 8188, 8189]\n",
      "Sending batch 820: [8190, 8191, 8192, 8193, 8194, 8195, 8196, 8197, 8198, 8199]\n",
      "Sending batch 821: [8200, 8201, 8202, 8203, 8204, 8205, 8206, 8207, 8208, 8209]\n",
      "Sending batch 822: [8210, 8211, 8212, 8213, 8214, 8215, 8216, 8217, 8218, 8219]\n",
      "Sending batch 823: [8220, 8221, 8222, 8223, 8224, 8225, 8226, 8227, 8228, 8229]\n",
      "Sending batch 824: [8230, 8231, 8232, 8233, 8234, 8235, 8236, 8237, 8238, 8239]\n",
      "Sending batch 825: [8240, 8241, 8242, 8243, 8244, 8245, 8246, 8247, 8248, 8249]\n",
      "Sending batch 826: [8250, 8251, 8252, 8253, 8254, 8255, 8256, 8257, 8258, 8259]\n",
      "Sending batch 827: [8260, 8261, 8262, 8263, 8264, 8265, 8266, 8267, 8268, 8269]\n",
      "Sending batch 828: [8270, 8271, 8272, 8273, 8274, 8275, 8276, 8277, 8278, 8279]\n",
      "Sending batch 829: [8280, 8281, 8282, 8283, 8284, 8285, 8286, 8287, 8288, 8289]\n",
      "Sending batch 830: [8290, 8291, 8292, 8293, 8294, 8295, 8296, 8297, 8298, 8299]\n",
      "Sending batch 831: [8300, 8301, 8302, 8303, 8304, 8305, 8306, 8307, 8308, 8309]\n",
      "Sending batch 832: [8310, 8311, 8312, 8313, 8314, 8315, 8316, 8317, 8318, 8319]\n",
      "Sending batch 833: [8320, 8321, 8322, 8323, 8324, 8325, 8326, 8327, 8328, 8329]\n",
      "Sending batch 834: [8330, 8331, 8332, 8333, 8334, 8335, 8336, 8337, 8338, 8339]\n",
      "Sending batch 835: [8340, 8341, 8342, 8343, 8344, 8345, 8346, 8347, 8348, 8349]\n",
      "Sending batch 836: [8350, 8351, 8352, 8353, 8354, 8355, 8356, 8357, 8358, 8359]\n",
      "Sending batch 837: [8360, 8361, 8362, 8363, 8364, 8365, 8366, 8367, 8368, 8369]\n",
      "Sending batch 838: [8370, 8371, 8372, 8373, 8374, 8375, 8376, 8377, 8378, 8379]\n",
      "Sending batch 839: [8380, 8381, 8382, 8383, 8384, 8385, 8386, 8387, 8388, 8389]\n",
      "Sending batch 840: [8390, 8391, 8392, 8393, 8394, 8395, 8396, 8397, 8398, 8399]\n",
      "Sending batch 841: [8400, 8401, 8402, 8403, 8404, 8405, 8406, 8407, 8408, 8409]\n",
      "Sending batch 842: [8410, 8411, 8412, 8413, 8414, 8415, 8416, 8417, 8418, 8419]\n",
      "Sending batch 843: [8420, 8421, 8422, 8423, 8424, 8425, 8426, 8427, 8428, 8429]\n",
      "Sending batch 844: [8430, 8431, 8432, 8433, 8434, 8435, 8436, 8437, 8438, 8439]\n",
      "Sending batch 845: [8440, 8441, 8442, 8443, 8444, 8445, 8446, 8447, 8448, 8449]\n",
      "Sending batch 846: [8450, 8451, 8452, 8453, 8454, 8455, 8456, 8457, 8458, 8459]\n",
      "Sending batch 847: [8460, 8461, 8462, 8463, 8464, 8465, 8466, 8467, 8468, 8469]\n",
      "Sending batch 848: [8470, 8471, 8472, 8473, 8474, 8475, 8476, 8477, 8478, 8479]\n",
      "Sending batch 849: [8480, 8481, 8482, 8483, 8484, 8485, 8486, 8487, 8488, 8489]\n",
      "Sending batch 850: [8490, 8491, 8492, 8493, 8494, 8495, 8496, 8497, 8498, 8499]\n",
      "Sending batch 851: [8500, 8501, 8502, 8503, 8504, 8505, 8506, 8507, 8508, 8509]\n",
      "Sending batch 852: [8510, 8511, 8512, 8513, 8514, 8515, 8516, 8517, 8518, 8519]\n",
      "Sending batch 853: [8520, 8521, 8522, 8523, 8524, 8525, 8526, 8527, 8528, 8529]\n",
      "Sending batch 854: [8530, 8531, 8532, 8533, 8534, 8535, 8536, 8537, 8538, 8539]\n",
      "Sending batch 855: [8540, 8541, 8542, 8543, 8544, 8545, 8546, 8547, 8548, 8549]\n",
      "Sending batch 856: [8550, 8551, 8552, 8553, 8554, 8555, 8556, 8557, 8558, 8559]\n",
      "Sending batch 857: [8560, 8561, 8562, 8563, 8564, 8565, 8566, 8567, 8568, 8569]\n",
      "Sending batch 858: [8570, 8571, 8572, 8573, 8574, 8575, 8576, 8577, 8578, 8579]\n",
      "Sending batch 859: [8580, 8581, 8582, 8583, 8584, 8585, 8586, 8587, 8588, 8589]\n",
      "Sending batch 860: [8590, 8591, 8592, 8593, 8594, 8595, 8596, 8597, 8598, 8599]\n",
      "Sending batch 861: [8600, 8601, 8602, 8603, 8604, 8605, 8606, 8607, 8608, 8609]\n",
      "Sending batch 862: [8610, 8611, 8612, 8613, 8614, 8615, 8616, 8617, 8618, 8619]\n",
      "Sending batch 863: [8620, 8621, 8622, 8623, 8624, 8625, 8626, 8627, 8628, 8629]\n",
      "Sending batch 864: [8630, 8631, 8632, 8633, 8634, 8635, 8636, 8637, 8638, 8639]\n",
      "Sending batch 865: [8640, 8641, 8642, 8643, 8644, 8645, 8646, 8647, 8648, 8649]\n",
      "Sending batch 866: [8650, 8651, 8652, 8653, 8654, 8655, 8656, 8657, 8658, 8659]\n",
      "Sending batch 867: [8660, 8661, 8662, 8663, 8664, 8665, 8666, 8667, 8668, 8669]\n",
      "Sending batch 868: [8670, 8671, 8672, 8673, 8674, 8675, 8676, 8677, 8678, 8679]\n",
      "Sending batch 869: [8680, 8681, 8682, 8683, 8684, 8685, 8686, 8687, 8688, 8689]\n",
      "Sending batch 870: [8690, 8691, 8692, 8693, 8694, 8695, 8696, 8697, 8698, 8699]\n",
      "Sending batch 871: [8700, 8701, 8702, 8703, 8704, 8705, 8706, 8707, 8708, 8709]\n",
      "Sending batch 872: [8710, 8711, 8712, 8713, 8714, 8715, 8716, 8717, 8718, 8719]\n",
      "Sending batch 873: [8720, 8721, 8722, 8723, 8724, 8725, 8726, 8727, 8728, 8729]\n",
      "Sending batch 874: [8730, 8731, 8732, 8733, 8734, 8735, 8736, 8737, 8738, 8739]\n",
      "Sending batch 875: [8740, 8741, 8742, 8743, 8744, 8745, 8746, 8747, 8748, 8749]\n",
      "Sending batch 876: [8750, 8751, 8752, 8753, 8754, 8755, 8756, 8757, 8758, 8759]\n",
      "Sending batch 877: [8760, 8761, 8762, 8763, 8764, 8765, 8766, 8767, 8768, 8769]\n",
      "Sending batch 878: [8770, 8771, 8772, 8773, 8774, 8775, 8776, 8777, 8778, 8779]\n",
      "Sending batch 879: [8780, 8781, 8782, 8783, 8784, 8785, 8786, 8787, 8788, 8789]\n",
      "Sending batch 880: [8790, 8791, 8792, 8793, 8794, 8795, 8796, 8797, 8798, 8799]\n",
      "Sending batch 881: [8800, 8801, 8802, 8803, 8804, 8805, 8806, 8807, 8808, 8809]\n",
      "Sending batch 882: [8810, 8811, 8812, 8813, 8814, 8815, 8816, 8817, 8818, 8819]\n",
      "Sending batch 883: [8820, 8821, 8822, 8823, 8824, 8825, 8826, 8827, 8828, 8829]\n",
      "Sending batch 884: [8830, 8831, 8832, 8833, 8834, 8835, 8836, 8837, 8838, 8839]\n",
      "Sending batch 885: [8840, 8841, 8842, 8843, 8844, 8845, 8846, 8847, 8848, 8849]\n",
      "Sending batch 886: [8850, 8851, 8852, 8853, 8854, 8855, 8856, 8857, 8858, 8859]\n",
      "Sending batch 887: [8860, 8861, 8862, 8863, 8864, 8865, 8866, 8867, 8868, 8869]\n",
      "Sending batch 888: [8870, 8871, 8872, 8873, 8874, 8875, 8876, 8877, 8878, 8879]\n",
      "Sending batch 889: [8880, 8881, 8882, 8883, 8884, 8885, 8886, 8887, 8888, 8889]\n",
      "Sending batch 890: [8890, 8891, 8892, 8893, 8894, 8895, 8896, 8897, 8898, 8899]\n",
      "Sending batch 891: [8900, 8901, 8902, 8903, 8904, 8905, 8906, 8907, 8908, 8909]\n",
      "Sending batch 892: [8910, 8911, 8912, 8913, 8914, 8915, 8916, 8917, 8918, 8919]\n",
      "Sending batch 893: [8920, 8921, 8922, 8923, 8924, 8925, 8926, 8927, 8928, 8929]\n",
      "Sending batch 894: [8930, 8931, 8932, 8933, 8934, 8935, 8936, 8937, 8938, 8939]\n",
      "Sending batch 895: [8940, 8941, 8942, 8943, 8944, 8945, 8946, 8947, 8948, 8949]\n",
      "Sending batch 896: [8950, 8951, 8952, 8953, 8954, 8955, 8956, 8957, 8958, 8959]\n",
      "Sending batch 897: [8960, 8961, 8962, 8963, 8964, 8965, 8966, 8967, 8968, 8969]\n",
      "Sending batch 898: [8970, 8971, 8972, 8973, 8974, 8975, 8976, 8977, 8978, 8979]\n",
      "Sending batch 899: [8980, 8981, 8982, 8983, 8984, 8985, 8986, 8987, 8988, 8989]\n",
      "Sending batch 900: [8990, 8991, 8992, 8993, 8994, 8995, 8996, 8997, 8998, 8999]\n",
      "Sending batch 901: [9000, 9001, 9002, 9003, 9004, 9005, 9006, 9007, 9008, 9009]\n",
      "Sending batch 902: [9010, 9011, 9012, 9013, 9014, 9015, 9016, 9017, 9018, 9019]\n",
      "Sending batch 903: [9020, 9021, 9022, 9023, 9024, 9025, 9026, 9027, 9028, 9029]\n",
      "Sending batch 904: [9030, 9031, 9032, 9033, 9034, 9035, 9036, 9037, 9038, 9039]\n",
      "Sending batch 905: [9040, 9041, 9042, 9043, 9044, 9045, 9046, 9047, 9048, 9049]\n",
      "Sending batch 906: [9050, 9051, 9052, 9053, 9054, 9055, 9056, 9057, 9058, 9059]\n",
      "Sending batch 907: [9060, 9061, 9062, 9063, 9064, 9065, 9066, 9067, 9068, 9069]\n",
      "Sending batch 908: [9070, 9071, 9072, 9073, 9074, 9075, 9076, 9077, 9078, 9079]\n",
      "Sending batch 909: [9080, 9081, 9082, 9083, 9084, 9085, 9086, 9087, 9088, 9089]\n",
      "Sending batch 910: [9090, 9091, 9092, 9093, 9094, 9095, 9096, 9097, 9098, 9099]\n",
      "Sending batch 911: [9100, 9101, 9102, 9103, 9104, 9105, 9106, 9107, 9108, 9109]\n",
      "Sending batch 912: [9110, 9111, 9112, 9113, 9114, 9115, 9116, 9117, 9118, 9119]\n",
      "Sending batch 913: [9120, 9121, 9122, 9123, 9124, 9125, 9126, 9127, 9128, 9129]\n",
      "Sending batch 914: [9130, 9131, 9132, 9133, 9134, 9135, 9136, 9137, 9138, 9139]\n",
      "Sending batch 915: [9140, 9141, 9142, 9143, 9144, 9145, 9146, 9147, 9148, 9149]\n",
      "Sending batch 916: [9150, 9151, 9152, 9153, 9154, 9155, 9156, 9157, 9158, 9159]\n",
      "Sending batch 917: [9160, 9161, 9162, 9163, 9164, 9165, 9166, 9167, 9168, 9169]\n",
      "Sending batch 918: [9170, 9171, 9172, 9173, 9174, 9175, 9176, 9177, 9178, 9179]\n",
      "Sending batch 919: [9180, 9181, 9182, 9183, 9184, 9185, 9186, 9187, 9188, 9189]\n",
      "Sending batch 920: [9190, 9191, 9192, 9193, 9194, 9195, 9196, 9197, 9198, 9199]\n",
      "Sending batch 921: [9200, 9201, 9202, 9203, 9204, 9205, 9206, 9207, 9208, 9209]\n",
      "Sending batch 922: [9210, 9211, 9212, 9213, 9214, 9215, 9216, 9217, 9218, 9219]\n",
      "Sending batch 923: [9220, 9221, 9222, 9223, 9224, 9225, 9226, 9227, 9228, 9229]\n",
      "Sending batch 924: [9230, 9231, 9232, 9233, 9234, 9235, 9236, 9237, 9238, 9239]\n",
      "Sending batch 925: [9240, 9241, 9242, 9243, 9244, 9245, 9246, 9247, 9248, 9249]\n",
      "Sending batch 926: [9250, 9251, 9252, 9253, 9254, 9255, 9256, 9257, 9258, 9259]\n",
      "Sending batch 927: [9260, 9261, 9262, 9263, 9264, 9265, 9266, 9267, 9268, 9269]\n",
      "Sending batch 928: [9270, 9271, 9272, 9273, 9274, 9275, 9276, 9277, 9278, 9279]\n",
      "Sending batch 929: [9280, 9281, 9282, 9283, 9284, 9285, 9286, 9287, 9288, 9289]\n",
      "Sending batch 930: [9290, 9291, 9292, 9293, 9294, 9295, 9296, 9297, 9298, 9299]\n",
      "Sending batch 931: [9300, 9301, 9302, 9303, 9304, 9305, 9306, 9307, 9308, 9309]\n",
      "Sending batch 932: [9310, 9311, 9312, 9313, 9314, 9315, 9316, 9317, 9318, 9319]\n",
      "Sending batch 933: [9320, 9321, 9322, 9323, 9324, 9325, 9326, 9327, 9328, 9329]\n",
      "Sending batch 934: [9330, 9331, 9332, 9333, 9334, 9335, 9336, 9337, 9338, 9339]\n",
      "Sending batch 935: [9340, 9341, 9342, 9343, 9344, 9345, 9346, 9347, 9348, 9349]\n",
      "Sending batch 936: [9350, 9351, 9352, 9353, 9354, 9355, 9356, 9357, 9358, 9359]\n",
      "Sending batch 937: [9360, 9361, 9362, 9363, 9364, 9365, 9366, 9367, 9368, 9369]\n",
      "Sending batch 938: [9370, 9371, 9372, 9373, 9374, 9375, 9376, 9377, 9378, 9379]\n",
      "Sending batch 939: [9380, 9381, 9382, 9383, 9384, 9385, 9386, 9387, 9388, 9389]\n",
      "Sending batch 940: [9390, 9391, 9392, 9393, 9394, 9395, 9396, 9397, 9398, 9399]\n",
      "Sending batch 941: [9400, 9401, 9402, 9403, 9404, 9405, 9406, 9407, 9408, 9409]\n",
      "Sending batch 942: [9410, 9411, 9412, 9413, 9414, 9415, 9416, 9417, 9418, 9419]\n",
      "Sending batch 943: [9420, 9421, 9422, 9423, 9424, 9425, 9426, 9427, 9428, 9429]\n",
      "Sending batch 944: [9430, 9431, 9432, 9433, 9434, 9435, 9436, 9437, 9438, 9439]\n",
      "Sending batch 945: [9440, 9441, 9442, 9443, 9444, 9445, 9446, 9447, 9448, 9449]\n",
      "Sending batch 946: [9450, 9451, 9452, 9453, 9454, 9455, 9456, 9457, 9458, 9459]\n",
      "Sending batch 947: [9460, 9461, 9462, 9463, 9464, 9465, 9466, 9467, 9468, 9469]\n",
      "Sending batch 948: [9470, 9471, 9472, 9473, 9474, 9475, 9476, 9477, 9478, 9479]\n",
      "Sending batch 949: [9480, 9481, 9482, 9483, 9484, 9485, 9486, 9487, 9488, 9489]\n",
      "Sending batch 950: [9490, 9491, 9492, 9493, 9494, 9495, 9496, 9497, 9498, 9499]\n",
      "Sending batch 951: [9500, 9501, 9502, 9503, 9504, 9505, 9506, 9507, 9508, 9509]\n",
      "Sending batch 952: [9510, 9511, 9512, 9513, 9514, 9515, 9516, 9517, 9518, 9519]\n",
      "Sending batch 953: [9520, 9521, 9522, 9523, 9524, 9525, 9526, 9527, 9528, 9529]\n",
      "Sending batch 954: [9530, 9531, 9532, 9533, 9534, 9535, 9536, 9537, 9538, 9539]\n",
      "Sending batch 955: [9540, 9541, 9542, 9543, 9544, 9545, 9546, 9547, 9548, 9549]\n",
      "Sending batch 956: [9550, 9551, 9552, 9553, 9554, 9555, 9556, 9557, 9558, 9559]\n",
      "Sending batch 957: [9560, 9561, 9562, 9563, 9564, 9565, 9566, 9567, 9568, 9569]\n",
      "Sending batch 958: [9570, 9571, 9572, 9573, 9574, 9575, 9576, 9577, 9578, 9579]\n",
      "Sending batch 959: [9580, 9581, 9582, 9583, 9584, 9585, 9586, 9587, 9588, 9589]\n",
      "Sending batch 960: [9590, 9591, 9592, 9593, 9594, 9595, 9596, 9597, 9598, 9599]\n",
      "Sending batch 961: [9600, 9601, 9602, 9603, 9604, 9605, 9606, 9607, 9608, 9609]\n",
      "Sending batch 962: [9610, 9611, 9612, 9613, 9614, 9615, 9616, 9617, 9618, 9619]\n",
      "Sending batch 963: [9620, 9621, 9622, 9623, 9624, 9625, 9626, 9627, 9628, 9629]\n",
      "Sending batch 964: [9630, 9631, 9632, 9633, 9634, 9635, 9636, 9637, 9638, 9639]\n",
      "Sending batch 965: [9640, 9641, 9642, 9643, 9644, 9645, 9646, 9647, 9648, 9649]\n",
      "Sending batch 966: [9650, 9651, 9652, 9653, 9654, 9655, 9656, 9657, 9658, 9659]\n",
      "Sending batch 967: [9660, 9661, 9662, 9663, 9664, 9665, 9666, 9667, 9668, 9669]\n",
      "Sending batch 968: [9670, 9671, 9672, 9673, 9674, 9675, 9676, 9677, 9678, 9679]\n",
      "Sending batch 969: [9680, 9681, 9682, 9683, 9684, 9685, 9686, 9687, 9688, 9689]\n",
      "Sending batch 970: [9690, 9691, 9692, 9693, 9694, 9695, 9696, 9697, 9698, 9699]\n",
      "Sending batch 971: [9700, 9701, 9702, 9703, 9704, 9705, 9706, 9707, 9708, 9709]\n",
      "Sending batch 972: [9710, 9711, 9712, 9713, 9714, 9715, 9716, 9717, 9718, 9719]\n",
      "Sending batch 973: [9720, 9721, 9722, 9723, 9724, 9725, 9726, 9727, 9728, 9729]\n",
      "Sending batch 974: [9730, 9731, 9732, 9733, 9734, 9735, 9736, 9737, 9738, 9739]\n",
      "Sending batch 975: [9740, 9741, 9742, 9743, 9744, 9745, 9746, 9747, 9748, 9749]\n",
      "Sending batch 976: [9750, 9751, 9752, 9753, 9754, 9755, 9756, 9757, 9758, 9759]\n",
      "Sending batch 977: [9760, 9761, 9762, 9763, 9764, 9765, 9766, 9767, 9768, 9769]\n",
      "Sending batch 978: [9770, 9771, 9772, 9773, 9774, 9775, 9776, 9777, 9778, 9779]\n",
      "Sending batch 979: [9780, 9781, 9782, 9783, 9784, 9785, 9786, 9787, 9788, 9789]\n",
      "Sending batch 980: [9790, 9791, 9792, 9793, 9794, 9795, 9796, 9797, 9798, 9799]\n",
      "Sending batch 981: [9800, 9801, 9802, 9803, 9804, 9805, 9806, 9807, 9808, 9809]\n",
      "Sending batch 982: [9810, 9811, 9812, 9813, 9814, 9815, 9816, 9817, 9818, 9819]\n",
      "Sending batch 983: [9820, 9821, 9822, 9823, 9824, 9825, 9826, 9827, 9828, 9829]\n",
      "Sending batch 984: [9830, 9831, 9832, 9833, 9834, 9835, 9836, 9837, 9838, 9839]\n",
      "Sending batch 985: [9840, 9841, 9842, 9843, 9844, 9845, 9846, 9847, 9848, 9849]\n",
      "Sending batch 986: [9850, 9851, 9852, 9853, 9854, 9855, 9856, 9857, 9858, 9859]\n",
      "Sending batch 987: [9860, 9861, 9862, 9863, 9864, 9865, 9866, 9867, 9868, 9869]\n",
      "Sending batch 988: [9870, 9871, 9872, 9873, 9874, 9875, 9876, 9877, 9878, 9879]\n",
      "Sending batch 989: [9880, 9881, 9882, 9883, 9884, 9885, 9886, 9887, 9888, 9889]\n",
      "Sending batch 990: [9890, 9891, 9892, 9893, 9894, 9895, 9896, 9897, 9898, 9899]\n",
      "Sending batch 991: [9900, 9901, 9902, 9903, 9904, 9905, 9906, 9907, 9908, 9909]\n",
      "Sending batch 992: [9910, 9911, 9912, 9913, 9914, 9915, 9916, 9917, 9918, 9919]\n",
      "Sending batch 993: [9920, 9921, 9922, 9923, 9924, 9925, 9926, 9927, 9928, 9929]\n",
      "Sending batch 994: [9930, 9931, 9932, 9933, 9934, 9935, 9936, 9937, 9938, 9939]\n",
      "Sending batch 995: [9940, 9941, 9942, 9943, 9944, 9945, 9946, 9947, 9948, 9949]\n",
      "Sending batch 996: [9950, 9951, 9952, 9953, 9954, 9955, 9956, 9957, 9958, 9959]\n",
      "Sending batch 997: [9960, 9961, 9962, 9963, 9964, 9965, 9966, 9967, 9968, 9969]\n",
      "Sending batch 998: [9970, 9971, 9972, 9973, 9974, 9975, 9976, 9977, 9978, 9979]\n",
      "Sending batch 999: [9980, 9981, 9982, 9983, 9984, 9985, 9986, 9987, 9988, 9989]\n",
      "Sending batch 1000: [9990, 9991, 9992, 9993, 9994, 9995, 9996, 9997, 9998, 9999]\n"
     ]
    }
   ],
   "source": [
    "# add your code below\n",
    "randomList = list(range(10000))\n",
    "\n",
    "# Process in batches of 10\n",
    "batch_size = 10\n",
    "\n",
    "for i in range(0, len(randomList), batch_size):\n",
    "    batch = randomList[i:i + batch_size]\n",
    "    \n",
    "    # Send batch to remote system\n",
    "    # remote_system.send(batch)  # Replace with actual remote call\n",
    "    print(f\"Sending batch {i//batch_size + 1}: {batch}\")"
   ]
  },
  {
   "cell_type": "markdown",
   "metadata": {},
   "source": [
    "# Practice: Improve balance calculation for bank account\n",
    "We prepared a python program for a bank to compute remaining balance in customers bank account last week.\n",
    "\n",
    "We agreed that the program was flawed.\n",
    "\n",
    "Based on our discussion today and your understanding of how remaining balance should be calculated, improve the program you had from last week"
   ]
  },
  {
   "cell_type": "markdown",
   "metadata": {},
   "source": [
    "# Practice: Preprocess data for LLM instruction tuning\n",
    "\n",
    "You are given a dataset for LLM instruction tuning. Write a Python program to clean and normalize the dataset below:\n",
    "\n",
    "```py\n",
    "dataset = [\n",
    "    {\"instruction\": \"  Translate to french  \", \"input\": \"HELLO\", \"output\": \"bonjour \"},\n",
    "    {\"instruction\": \"Summarize text\", \"input\": \"This is a short article.\", \"output\": \"short article summary\"},\n",
    "    {\"instruction\": \"generate a title\", \"input\": \"\", \"output\": \"The Power of Data\"},\n",
    "    {\"instruction\": \"  explain code  \", \"input\": \"print('hi')  \", \"output\": \" it prints hi\"},\n",
    "    {\"instruction\": \"\", \"input\": \"data science\", \"output\": \"Field of study\"}\n",
    "]\n",
    "\n",
    "```\n",
    "You tasks:\n",
    "- Remove leading/trailing spaces with `.strip()`. Please look up this method\n",
    "- Convert all text to lowercase\n",
    "- Removes invalid samples: If `instruction` is empty, then skip that example.\n",
    "- Normalizes missing inputs: If `input` is empty, replace with \"(no input)\"."
   ]
  },
  {
   "cell_type": "markdown",
   "metadata": {
    "id": "aBrZapEmE5tG"
   },
   "source": [
    "## Debugging Challenge"
   ]
  },
  {
   "cell_type": "code",
   "execution_count": 2,
   "metadata": {
    "colab": {
     "base_uri": "https://localhost:8080/",
     "height": 141
    },
    "executionInfo": {
     "elapsed": 23,
     "status": "error",
     "timestamp": 1695414756440,
     "user": {
      "displayName": "Steven Gustafson",
      "userId": "09001575731804121641"
     },
     "user_tz": 420
    },
    "id": "bb165a51-5ae1-430f-bd00-244dfa3545d7",
    "outputId": "aa0bb983-c324-41f7-fd66-de7d5c4b1e94"
   },
   "outputs": [
    {
     "ename": "SyntaxError",
     "evalue": "invalid syntax (1201827421.py, line 18)",
     "output_type": "error",
     "traceback": [
      "\u001b[1;36m  Cell \u001b[1;32mIn[2], line 18\u001b[1;36m\u001b[0m\n\u001b[1;33m    for author date in authors.items{}:\u001b[0m\n\u001b[1;37m    ^\u001b[0m\n\u001b[1;31mSyntaxError\u001b[0m\u001b[1;31m:\u001b[0m invalid syntax\n"
     ]
    }
   ],
   "source": [
    "# Create a collection of these authors and\n",
    "# the year they kicked the bucket;\n",
    "# print the collection in the following format:\n",
    "\n",
    "# Charles Dickens died in 1870.\n",
    "\n",
    "# Charles Dickens, 1870\n",
    "# William Thackeray, 1863\n",
    "# Anthony Trollope, 1882\n",
    "# Gerard Manley Hopkins, 1889\n",
    "\n",
    "authrs = {\n",
    "    \"Charles Dickens\": \"1870\",\n",
    "    \"William Thackeray\": \"1863\",\n",
    "    \"Anthony Trollope\": \"1882\",\n",
    "    \"Gerard Manley Hopkins\": \"1889\"\n",
    "\n",
    "for author date in authors.items{}:\n",
    "    print \"%s\" % authors + \" died in \" + \"%d.\" % Date\n",
    "}"
   ]
  },
  {
   "cell_type": "code",
   "execution_count": null,
   "metadata": {},
   "outputs": [],
   "source": [
    "# fixed code goes below"
   ]
  },
  {
   "cell_type": "markdown",
   "metadata": {},
   "source": [
    "## Practice 5\n",
    "Write a program with the following functionalities:\n",
    "- Randomly generate an integer between 0 to 9\n",
    "- Prompt the user to take a guess between 0 to 9 \n",
    "- If the input is valid and correct, output a message telling the user wins\n",
    "- If the input is valide but incorrect, provide a hint to the user (whether the guess is too large or too small), and ask the user to take another guess\n"
   ]
  },
  {
   "cell_type": "code",
   "execution_count": null,
   "metadata": {
    "id": "Rnz0KyotFCj6"
   },
   "outputs": [],
   "source": [
    "import random\n",
    "generated_number = random.randint(0,9) # generate a random integer between 0 and 9\n",
    "print(generated_number)"
   ]
  },
  {
   "cell_type": "code",
   "execution_count": null,
   "metadata": {},
   "outputs": [],
   "source": [
    "# add your code below"
   ]
  },
  {
   "cell_type": "markdown",
   "metadata": {},
   "source": [
    "# Can you use the data structures and control flows that we have learned so far to solve the motivating example in a scalable manner? "
   ]
  }
 ],
 "metadata": {
  "colab": {
   "provenance": []
  },
  "kernelspec": {
   "display_name": "base",
   "language": "python",
   "name": "python3"
  },
  "language_info": {
   "codemirror_mode": {
    "name": "ipython",
    "version": 3
   },
   "file_extension": ".py",
   "mimetype": "text/x-python",
   "name": "python",
   "nbconvert_exporter": "python",
   "pygments_lexer": "ipython3",
   "version": "3.11.7"
  }
 },
 "nbformat": 4,
 "nbformat_minor": 1
}
